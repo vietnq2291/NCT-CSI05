{
 "cells": [
  {
   "cell_type": "markdown",
   "metadata": {},
   "source": [
    "## <center>Computer Science Intensive Course - MindX</center>\n",
    "![](./assets/logo.png)\n",
    "# <center>HOMEWORK 10. TREE VÀ GRAPH</center>"
   ]
  },
  {
   "cell_type": "markdown",
   "metadata": {},
   "source": [
    "## Bài Tập: Cây Tìm Kiếm Nhị Phân (Binary Search Tree)\n",
    "\n",
    "**_Cây nhị phân_** là một cây với tính chất: mỗi phần tử chỉ có tối đa hai con. Một node con có thể là node trái hoặc node phải.\n",
    "\n",
    "**_Cây tìm kiếm nhị phân_** là một cây nhị phân với tính chất:  \n",
    "- Cây con bên trái (cây có gốc là node con bên trái) của một node chỉ chứa các phần tử nhỏ hơn node đang xét.\n",
    "- Cây con bên phải của một node chỉ chứa các phần tử lớn hơn node đang xét.\n",
    "- Không có phần tử nào của cây chứa giá trị trùng nhau.\n",
    "\n",
    "![](./assets/binary-search-tree.png)\n",
    "<div style='text-align: right'><i>Ảnh: geeksforgeeks.org</i></div>\n",
    "\n",
    "Cho một cây tìm kiếm nhị phân chứa các số nguyên không trùng nhau dựa theo ảnh minh họa trên.  \n",
    "\n",
    "**Yêu cầu**:\n",
    "- Tìm phần tử nhỏ nhất trong cây\n",
    "- Kiểm tra giá trị *9* có nằm trong cây hay không\n",
    "- Kiểm tra giá trị *6* có nằm trong cây hay không"
   ]
  },
  {
   "cell_type": "code",
   "execution_count": 1,
   "metadata": {},
   "outputs": [],
   "source": [
    "class BSTNode:\n",
    "    def __init__(self, data):\n",
    "        self.data = data\n",
    "        self.left = None\n",
    "        self.right = None\n",
    "\n",
    "root = BSTNode(8)\n",
    "root.left, root.right = BSTNode(3), BSTNode(10)\n",
    "root.left.left, root.left.right = BSTNode(1), BSTNode(6)\n",
    "root.left.right.left, root.left.right.right = BSTNode(4), BSTNode(7)\n",
    "root.right.right = BSTNode(14)\n",
    "root.right.right.left = BSTNode(13)"
   ]
  },
  {
   "cell_type": "code",
   "execution_count": 2,
   "metadata": {},
   "outputs": [
    {
     "name": "stdout",
     "output_type": "stream",
     "text": [
      "Minimal value: 1\n",
      "Value 9 not found in tree\n",
      "Value 6 found in tree\n"
     ]
    }
   ],
   "source": [
    "# SOLUTION\n",
    "\n",
    "def find_min(tree_node):  # min value is the value of the left-most node\n",
    "    if tree_node.left is None:\n",
    "        return tree_node.data\n",
    "    else:\n",
    "        return find_min(tree_node.left)  # recursive call\n",
    "\n",
    "\n",
    "def exist(tree_node, num):\n",
    "    \n",
    "    if num > tree_node.data:  # if number larger than current node => traverse right\n",
    "        if tree_node.right is None:  # if found no right child node => value not found\n",
    "            return False\n",
    "        else:\n",
    "            return exist(tree_node.right, num)\n",
    "    \n",
    "    elif num < tree_node.data:    # if number larger than current node => traverse left\n",
    "        if tree_node.left is None:  # if found no left child node => value not found\n",
    "            return False\n",
    "        else:\n",
    "            return exist(tree_node.left, num)\n",
    "    \n",
    "    # number equals current node => value found\n",
    "    return True\n",
    "\n",
    "\n",
    "# driver code\n",
    "print('Minimal value: {}'.format(find_min(root)))\n",
    "print('Value {}{} found in tree'.format(9, ' not'*(not exist(root, 9))))\n",
    "print('Value {}{} found in tree'.format(6, ' not'*(not exist(root, 6))))"
   ]
  },
  {
   "cell_type": "code",
   "execution_count": null,
   "metadata": {},
   "outputs": [],
   "source": []
  }
 ],
 "metadata": {
  "kernelspec": {
   "display_name": "Python 3",
   "language": "python",
   "name": "python3"
  },
  "language_info": {
   "codemirror_mode": {
    "name": "ipython",
    "version": 3
   },
   "file_extension": ".py",
   "mimetype": "text/x-python",
   "name": "python",
   "nbconvert_exporter": "python",
   "pygments_lexer": "ipython3",
   "version": "3.8.3"
  }
 },
 "nbformat": 4,
 "nbformat_minor": 4
}
