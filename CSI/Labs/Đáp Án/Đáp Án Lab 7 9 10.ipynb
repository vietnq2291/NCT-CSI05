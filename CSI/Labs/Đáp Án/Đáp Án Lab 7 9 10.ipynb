{
 "cells": [
  {
   "cell_type": "markdown",
   "metadata": {},
   "source": [
    "## <center>Computer Science Intensive Course - MindX</center>\n",
    "![](./assets/logo.png)\n",
    "# <center>ĐÁP ÁN LAB 7 9 10</center>"
   ]
  },
  {
   "cell_type": "markdown",
   "metadata": {},
   "source": [
    "# LAB 7. THUẬT TOÁN SẮP XẾP (3)"
   ]
  },
  {
   "cell_type": "markdown",
   "metadata": {},
   "source": [
    "### Bài 1. Rating"
   ]
  },
  {
   "cell_type": "code",
   "execution_count": 1,
   "metadata": {},
   "outputs": [
    {
     "data": {
      "text/plain": [
       "[('The Alley', 5.0),\n",
       " ('Gongcha', 4.5),\n",
       " ('Koi Thé', 4.5),\n",
       " ('Phuc Long', 4.0),\n",
       " ('Tocotoco', 4.0),\n",
       " ('Share Tea', 3.5),\n",
       " ('Soya', 3.5)]"
      ]
     },
     "execution_count": 1,
     "metadata": {},
     "output_type": "execute_result"
    }
   ],
   "source": [
    "def counting_sort_rating(arr):\n",
    "    \n",
    "    # trivial cases\n",
    "    n = len(arr)\n",
    "    if n <= 1:\n",
    "        return arr\n",
    "    \n",
    "    # get the range of counting indices => multiple by 2\n",
    "    val_range = 11\n",
    " \n",
    "    # count occurences of each value\n",
    "    count = [0] * val_range\n",
    "    for i, rating in enumerate(arr):\n",
    "        count[int(rating[1]*2)] += 1\n",
    "        \n",
    "    # build `next_indices` by overwritting `count`\n",
    "    next_indices = count\n",
    "    total_count = 0\n",
    "    for i in range(val_range-1, -1, -1):  # reverse here for descending sort\n",
    "        tmp = next_indices[i]\n",
    "        next_indices[i] = total_count\n",
    "        total_count += tmp\n",
    "        \n",
    "    # traverse `arr` to place the values into `sorted_arr`\n",
    "    sorted_arr = [None] * n\n",
    "    for rating in arr:\n",
    "        count_index = int(rating[1]*2)\n",
    "        sorted_arr[next_indices[count_index]] = rating\n",
    "        next_indices[count_index] += 1\n",
    "        \n",
    "    return sorted_arr\n",
    "\n",
    "\n",
    "# driver code\n",
    "arr = [('Phuc Long', 4.0), ('Tocotoco', 4.0), ('Share Tea', 3.5), ('Gongcha', 4.5), ('Soya', 3.5), ('Koi Thé', 4.5), ('The Alley', 5.0)]\n",
    "counting_sort_rating(arr)"
   ]
  },
  {
   "cell_type": "markdown",
   "metadata": {},
   "source": [
    "### Bài 2. Phần Tử Lớn Thứ Ba"
   ]
  },
  {
   "cell_type": "code",
   "execution_count": 2,
   "metadata": {},
   "outputs": [
    {
     "data": {
      "text/plain": [
       "2"
      ]
     },
     "execution_count": 2,
     "metadata": {},
     "output_type": "execute_result"
    }
   ],
   "source": [
    "def find_third_largest(arr):\n",
    "\n",
    "    # trivial cases\n",
    "    if len(arr) < 3:\n",
    "        return None\n",
    "    \n",
    "    # find largest element\n",
    "    previous_max = max(arr)\n",
    " \n",
    "    # find second and third-largest\n",
    "    for _ in range(2):\n",
    "        \n",
    "        current_max = None\n",
    "        for el in arr:\n",
    "            if el < previous_max and (current_max == None or el > current_max):\n",
    "                current_max = el   \n",
    "        previous_max = current_max\n",
    "        \n",
    "        if current_max == None:\n",
    "            return None\n",
    "        \n",
    "    return current_max\n",
    "\n",
    "\n",
    "def count_third_largest(arr):\n",
    "    \n",
    "    third = find_third_largest(arr)\n",
    "    if third == None:\n",
    "        return 0\n",
    "    \n",
    "    count = 0\n",
    "    for el in arr:\n",
    "        if el == third:\n",
    "            count += 1\n",
    "            \n",
    "    return count\n",
    "\n",
    "\n",
    "# driver_code()\n",
    "arr = [3, 2, 1, 5, 4, 7, 6, 6, 5]\n",
    "count_third_largest(arr)"
   ]
  },
  {
   "cell_type": "markdown",
   "metadata": {},
   "source": [
    "### Bài 3. Hàm sorted(): So Sánh Trên Key"
   ]
  },
  {
   "cell_type": "code",
   "execution_count": 4,
   "metadata": {},
   "outputs": [],
   "source": [
    "def sort_student_grades_math(grade_list):\n",
    "    return sorted(grade_list, reverse=True, key=lambda grade: grade['math'])"
   ]
  },
  {
   "cell_type": "markdown",
   "metadata": {},
   "source": [
    "### Bài 4. Hàm sorted(): So Sánh Trên Nhiều Key"
   ]
  },
  {
   "cell_type": "code",
   "execution_count": 5,
   "metadata": {},
   "outputs": [],
   "source": [
    "def sort_student_grades_all(grade_list):\n",
    "    return sorted(grade_list, reverse=True, key=lambda grade: (grade['math'], grade['literature']))"
   ]
  },
  {
   "cell_type": "markdown",
   "metadata": {},
   "source": [
    "# LAB 9. STACK VÀ QUEUE"
   ]
  },
  {
   "cell_type": "markdown",
   "metadata": {},
   "source": [
    "### Bài 1. Dãy Con Chẵn"
   ]
  },
  {
   "cell_type": "code",
   "execution_count": 6,
   "metadata": {},
   "outputs": [
    {
     "data": {
      "text/plain": [
       "'1010'"
      ]
     },
     "execution_count": 6,
     "metadata": {},
     "output_type": "execute_result"
    }
   ],
   "source": [
    "from collections import deque\n",
    "\n",
    "def reduce(sequence):\n",
    "    \n",
    "    # init stack\n",
    "    stack = deque()\n",
    "    \n",
    "    # traverse the sequence\n",
    "    for el in sequence:\n",
    "        if len(stack) == 0 or stack[-1] != el:  # if no matching element in the top of stack...\n",
    "            stack.append(el)                    # ... push element to stack\n",
    "        else:                                   # if exist matching element => pop that element\n",
    "            stack.pop()\n",
    "            \n",
    "    # convert the stack to list, then join to string\n",
    "    return ''.join(list(stack))\n",
    "\n",
    "\n",
    "# driver code\n",
    "reduce(\"1010000110\")"
   ]
  },
  {
   "cell_type": "markdown",
   "metadata": {},
   "source": [
    "### Bài 2. Dãy Ngoặc Đúng (2)"
   ]
  },
  {
   "cell_type": "code",
   "execution_count": 7,
   "metadata": {},
   "outputs": [
    {
     "data": {
      "text/plain": [
       "True"
      ]
     },
     "execution_count": 7,
     "metadata": {},
     "output_type": "execute_result"
    }
   ],
   "source": [
    "from collections import deque\n",
    "\n",
    "def is_valid(sequence):\n",
    "    \n",
    "    # init stack\n",
    "    stack = deque()\n",
    "    par_dict = {')': '(', ']': '[', '}': '{'}\n",
    "    \n",
    "    # traverse the sequence\n",
    "    for par in sequence:\n",
    "        if par in ['(', '[', '{']:  # if open parenthesis: add to stack\n",
    "            stack.append(par)\n",
    "        else:                       # if close parenthesis...\n",
    "            if len(stack) > 0 and stack[-1] == par_dict[par]:  # check for matching open parenthesis\n",
    "                stack.pop()\n",
    "            else:               # if stack has no open parenthesis to match => invalid sequence\n",
    "                return False\n",
    "    \n",
    "    # return True if stack has no open parenthesis left\n",
    "    return len(stack) == 0\n",
    "\n",
    "\n",
    "is_valid(\"([{}])({})\")"
   ]
  },
  {
   "cell_type": "markdown",
   "metadata": {},
   "source": [
    "### Bài 3. Postfix"
   ]
  },
  {
   "cell_type": "code",
   "execution_count": 8,
   "metadata": {},
   "outputs": [
    {
     "data": {
      "text/plain": [
       "4.5"
      ]
     },
     "execution_count": 8,
     "metadata": {},
     "output_type": "execute_result"
    }
   ],
   "source": [
    "from collections import deque\n",
    "\n",
    "# evaluate result of a single operation\n",
    "def eval_operation(value1, value2, operator):\n",
    "    if operator == '+':\n",
    "        return value1 + value2\n",
    "    if operator == '-':\n",
    "        return value1 - value2\n",
    "    if operator == '*':\n",
    "        return value1 * value2\n",
    "    if operator == '/':\n",
    "        return value1 / value2\n",
    "    if operator == '^':\n",
    "        return value1 ** value2\n",
    "    \n",
    "\n",
    "# evaluate a postfix expression\n",
    "def eval_postfix(expression):\n",
    "    \n",
    "    # init\n",
    "    stack = deque()\n",
    "    \n",
    "    # traverse the expression\n",
    "    for el in expression.split(\" \"):\n",
    "        try:     # push operands to stack\n",
    "            stack.append(float(el))\n",
    "        except:  # handle operator: calculate operation result and put back to stack\n",
    "            value2 = stack.pop()\n",
    "            value1 = stack.pop()\n",
    "            operation_result = eval_operation(value1, value2, el)\n",
    "            stack.append(operation_result)\n",
    "            \n",
    "    return stack.pop()\n",
    "\n",
    "\n",
    "eval_postfix(\"5 2 ^ 5 2 * / 2 +\")"
   ]
  },
  {
   "cell_type": "markdown",
   "metadata": {},
   "source": [
    "### Bài 4. Chuyển Đổi Infix Và Postfix"
   ]
  },
  {
   "cell_type": "code",
   "execution_count": 9,
   "metadata": {},
   "outputs": [
    {
     "data": {
      "text/plain": [
       "('5 2 ^ 5 3 * / 2 +', 3.666666666666667)"
      ]
     },
     "execution_count": 9,
     "metadata": {},
     "output_type": "execute_result"
    }
   ],
   "source": [
    "from collections import deque\n",
    "\n",
    "\n",
    "# check if op1 has higher precedence than op2\n",
    "def is_precede(op1, op2):\n",
    "    precedence = {'(': 0,\n",
    "                  '+': 1, '-': 1,\n",
    "                  '*': 2, '/': 2,\n",
    "                  '^': 3}\n",
    "    return precedence[op1] >= precedence[op2]  # equal case applied as op1 comes before op2\n",
    "\n",
    "\n",
    "# convert infix expression to postfix expression\n",
    "def infix_to_postfix(infix):\n",
    "\n",
    "    # init\n",
    "    stack = deque()\n",
    "    postfix = []\n",
    "\n",
    "    # traverse infix expression\n",
    "    for el in infix.split(' '):\n",
    "        try:           # if found operand => add to postfix\n",
    "            float(el)\n",
    "            postfix.append(el)\n",
    "        except:        # if found operator...\n",
    "            if el in ['(', '^']:  # ... always push ( and ^ to stack; ^ has highest precedence\n",
    "                stack.append(el)\n",
    "            elif el == ')':       # ... if found )\n",
    "                while True:  # do-while loop; add to postfix every operators inside ( )\n",
    "                    operator = stack.pop()\n",
    "                    if operator == '(':\n",
    "                        break\n",
    "                    postfix.append(operator)\n",
    "            else:                 # ... other operators: + - * /\n",
    "                # add to postfix every operators that has higher precedence\n",
    "                while len(stack) > 0 and is_precede(stack[-1], el):\n",
    "                    postfix.append(stack.pop())\n",
    "                stack.append(el)\n",
    "    \n",
    "    # add the remaining operators to postfix\n",
    "    while len(stack) > 0:\n",
    "        postfix.append(stack.pop())\n",
    "        \n",
    "    return ' '.join(postfix)\n",
    "\n",
    "\n",
    "def infix_to_postfix_evaluate(infix):\n",
    "    postfix_str = infix_to_postfix(infix)\n",
    "    expr_value = eval_postfix(postfix_str)\n",
    "    return postfix_str, expr_value\n",
    "\n",
    "\n",
    "infix_to_postfix_evaluate(\"5 ^ 2 / ( 5 * 3 ) + 2\")"
   ]
  },
  {
   "cell_type": "markdown",
   "metadata": {},
   "source": [
    "# LAB 10. TREE VÀ GRAPH"
   ]
  },
  {
   "cell_type": "markdown",
   "metadata": {},
   "source": [
    "### Bài 1. Quần Đảo"
   ]
  },
  {
   "cell_type": "code",
   "execution_count": 10,
   "metadata": {},
   "outputs": [
    {
     "data": {
      "text/plain": [
       "2"
      ]
     },
     "execution_count": 10,
     "metadata": {},
     "output_type": "execute_result"
    }
   ],
   "source": [
    "def traverse(island, graph, visited):\n",
    "    \n",
    "    # check that the current island is visited\n",
    "    visited.add(island)\n",
    "    \n",
    "    # check every adjacent islands\n",
    "    for vertex in graph[island]:\n",
    "        # if this island is not visited => visit every adjacent island from it\n",
    "        if vertex not in visited:\n",
    "            traverse(vertex, graph, visited)\n",
    "\n",
    "\n",
    "def count_island_groups(graph):\n",
    "    \n",
    "    # init\n",
    "    count = 0\n",
    "    visited = set()\n",
    "    \n",
    "    # check every island\n",
    "    for island in graph:\n",
    "        if island not in visited:  # if not visited => found a new island group\n",
    "            traverse(island, graph, visited)  # visit every island in the group\n",
    "            count += 1\n",
    "    \n",
    "    return count\n",
    "\n",
    "\n",
    "# driver code\n",
    "count_island_groups({0: [4], 1: [2], 2: [1], 3: [4], 4: [0, 3]})"
   ]
  },
  {
   "cell_type": "markdown",
   "metadata": {},
   "source": [
    "### Bài 2. Tính Biểu Thức"
   ]
  },
  {
   "cell_type": "code",
   "execution_count": 12,
   "metadata": {},
   "outputs": [],
   "source": [
    "# evaluate result of a single operation\n",
    "def eval_operation(value1, value2, operator):\n",
    "    if operator == '+':\n",
    "        return value1 + value2\n",
    "    if operator == '-':\n",
    "        return value1 - value2\n",
    "    if operator == '*':\n",
    "        return value1 * value2\n",
    "    if operator == '/':\n",
    "        return value1 / value2\n",
    "    if operator == '^':\n",
    "        return value1 ** value2\n",
    "\n",
    "def evaluate(node):\n",
    "    if node.data in ['+', '-', '*', '/', '^']:  # if current node is an operator...\n",
    "        left = evaluate(node.left)              # ... evaluate left and right sub-tree\n",
    "        right = evaluate(node.right)            # ... then perform calculation\n",
    "        return eval_operation(left, right, node.data)\n",
    "    else:\n",
    "        return node.data  # if not operator => return value\n",
    "\n",
    "def evaluate_expr(tree_root):\n",
    "    return evaluate(tree_root)"
   ]
  },
  {
   "cell_type": "markdown",
   "metadata": {},
   "source": [
    "### Bài 3. Trang Trại"
   ]
  },
  {
   "cell_type": "code",
   "execution_count": 13,
   "metadata": {},
   "outputs": [],
   "source": [
    "# traverse the area of connected cells to check for farm and count area\n",
    "def traverse_and_measure(row, col, m, n, land_map, visited, is_farm, area):\n",
    "\n",
    "    # check current cell as visited\n",
    "    visited[row][col] = True\n",
    "    \n",
    "    # if reached land's border: not farm, stop traversing from this cell\n",
    "    if row == 0 or col == 0 or row == m-1 or col == n-1:\n",
    "        is_farm[0] = False\n",
    "        return\n",
    "\n",
    "    # may still be farm: update area\n",
    "    if is_farm[0]:\n",
    "        area[0] += 1\n",
    "    \n",
    "    # traverse neighbor cells: top, right, bottom, left\n",
    "    for i, j in [(row-1, col), (row, col+1), (row+1, col), (row, col-1)]:\n",
    "        if land_map[i][j] == 0 and not visited[i][j]:\n",
    "            traverse_and_measure(i, j, m, n, land_map, visited, is_farm, area)\n",
    "    \n",
    "\n",
    "def find_farm_area(land_map):\n",
    "    \n",
    "    # init lengths\n",
    "    m = len(land_map)\n",
    "    n = len(land_map[0])\n",
    "    \n",
    "    # init visited array\n",
    "    visited = [[False]*n for _ in range(m)]\n",
    "    \n",
    "    # check every non-borders cells of the land, as border cells cannot be in the farm\n",
    "    for row in range(1, m-1):\n",
    "        for col in range(1, n-1):\n",
    "            if land_map[row][col] == 0 and not visited[row][col]:  # if cell is not fence and not visited\n",
    "                # traverse the area of connected cells to check for farm and count area\n",
    "                is_farm = [True]  # use list so that traverse_and_measure can change the variable value\n",
    "                area = [0]\n",
    "                traverse_and_measure(row, col, m, n, land_map, visited, is_farm, area)\n",
    "                if is_farm[0]:  # if found farm, return area\n",
    "                    return area[0]"
   ]
  },
  {
   "cell_type": "code",
   "execution_count": null,
   "metadata": {},
   "outputs": [],
   "source": []
  }
 ],
 "metadata": {
  "kernelspec": {
   "display_name": "Python 3",
   "language": "python",
   "name": "python3"
  },
  "language_info": {
   "codemirror_mode": {
    "name": "ipython",
    "version": 3
   },
   "file_extension": ".py",
   "mimetype": "text/x-python",
   "name": "python",
   "nbconvert_exporter": "python",
   "pygments_lexer": "ipython3",
   "version": "3.8.3"
  }
 },
 "nbformat": 4,
 "nbformat_minor": 4
}
