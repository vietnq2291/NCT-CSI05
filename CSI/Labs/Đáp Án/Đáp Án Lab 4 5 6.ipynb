{
 "cells": [
  {
   "cell_type": "markdown",
   "metadata": {},
   "source": [
    "## <center>Computer Science Intensive Course - MindX</center>\n",
    "![](./assets/logo.png)\n",
    "# <center>ĐÁP ÁN LAB 4 5 6</center>"
   ]
  },
  {
   "cell_type": "markdown",
   "metadata": {},
   "source": [
    "# LAB 4. THUẬT TOÁN TÌM KIẾM"
   ]
  },
  {
   "cell_type": "markdown",
   "metadata": {},
   "source": [
    "### Bài 1. Đếm Từ"
   ]
  },
  {
   "cell_type": "code",
   "execution_count": 1,
   "metadata": {},
   "outputs": [
    {
     "data": {
      "text/plain": [
       "4"
      ]
     },
     "execution_count": 1,
     "metadata": {},
     "output_type": "execute_result"
    }
   ],
   "source": [
    "def count_word(inp_str, inp_word):\n",
    "    \n",
    "    inp_length = len(inp_str)\n",
    "    word_length = len(inp_word)\n",
    "    inp_word = inp_word.lower()\n",
    "    inp_str = inp_str.lower()\n",
    "    \n",
    "    count = 0\n",
    "    for i in range(inp_length-word_length+1):  # loop through the string\n",
    "        \n",
    "        # check the word is not a part of another word \n",
    "        left_free = i == 0 or (not inp_str[i-1].isalpha())\n",
    "        right_free = i == inp_length-word_length or (not inp_str[i+word_length].isalpha())\n",
    "        \n",
    "        # check the substring is equal to the word\n",
    "        if left_free and right_free and inp_str[i:i+word_length] == inp_word:\n",
    "            count += 1\n",
    "  \n",
    "    return count\n",
    "\n",
    "\n",
    "count_word(\"The cat is chasing the rat in Netherlands. The dog is also chasing the rat.\", \"the\")"
   ]
  },
  {
   "cell_type": "markdown",
   "metadata": {},
   "source": [
    "### Bài 2. Rút Gọn Phân Số"
   ]
  },
  {
   "cell_type": "code",
   "execution_count": 2,
   "metadata": {},
   "outputs": [
    {
     "data": {
      "text/plain": [
       "(3, 4)"
      ]
     },
     "execution_count": 2,
     "metadata": {},
     "output_type": "execute_result"
    }
   ],
   "source": [
    "def gcd(a, b):\n",
    "    while b != 0:\n",
    "        a, b = b, a % b\n",
    "    return a\n",
    "\n",
    "def reduce_fraction(a, b):\n",
    "    gcd_num = gcd(a, b)\n",
    "    return a//gcd_num, b//gcd_num\n",
    "\n",
    "reduce_fraction(18, 24)"
   ]
  },
  {
   "cell_type": "markdown",
   "metadata": {},
   "source": [
    "### Bài 3. Fibonacci"
   ]
  },
  {
   "cell_type": "code",
   "execution_count": 3,
   "metadata": {},
   "outputs": [
    {
     "data": {
      "text/plain": [
       "55"
      ]
     },
     "execution_count": 3,
     "metadata": {},
     "output_type": "execute_result"
    }
   ],
   "source": [
    "def fibo_recursive(fibo_arr, n):\n",
    "    if n <= 0:\n",
    "        return -1\n",
    "    if fibo_arr[n-1] != 0:\n",
    "        return fibo_arr[n-1]\n",
    "    fibo_arr[n-1] = fibo_recursive(fibo_arr, n-1) + fibo_recursive(fibo_arr, n-2)\n",
    "    return fibo_arr[n-1]\n",
    "\n",
    "\n",
    "def fibonacci(n):\n",
    "    \n",
    "    # array for storing n fibonacci numbers\n",
    "    fibo_arr = [0] * max(n, 2)\n",
    "    fibo_arr[0] = 1\n",
    "    fibo_arr[1] = 1\n",
    "    \n",
    "    return fibo_recursive(fibo_arr, n)\n",
    "\n",
    "\n",
    "fibonacci(10)"
   ]
  },
  {
   "cell_type": "markdown",
   "metadata": {},
   "source": [
    "### Bài 4. Kiểm Tra Dãy Con"
   ]
  },
  {
   "cell_type": "code",
   "execution_count": 4,
   "metadata": {},
   "outputs": [
    {
     "data": {
      "text/plain": [
       "True"
      ]
     },
     "execution_count": 4,
     "metadata": {},
     "output_type": "execute_result"
    }
   ],
   "source": [
    "# use the counting function from Contents/Lesson 3/Exercise 4.5.\n",
    "def count(inp_str):\n",
    "    result = {}\n",
    "    for el in inp_str:\n",
    "        result[el] = result.get(el, 0) + 1\n",
    "    return result\n",
    "        \n",
    "        \n",
    "def check_substring(str1, str2):\n",
    "    \n",
    "    # count characters in each string as dict\n",
    "    count1 = count(str1)\n",
    "    count2 = count(str2)\n",
    "    \n",
    "    for ch, num in count2.items():\n",
    "        if count1.get(ch, 0) < num:  # check if str1 has enough of each characters for str2\n",
    "            return False\n",
    "    return True\n",
    "\n",
    "\n",
    "check_substring(\"aabccdefewherwewopewruiwiiufhhqoihefwlejhohlifqahksabjoqwdihowioihqeohqoheqiohfqeiofhewihew\", \"faweiehoioided\")"
   ]
  },
  {
   "cell_type": "markdown",
   "metadata": {},
   "source": [
    "# LAB 5. THUẬT TOÁN SẮP XẾP (1)"
   ]
  },
  {
   "cell_type": "markdown",
   "metadata": {},
   "source": [
    "### Bài 1. Dãy Số Ngược"
   ]
  },
  {
   "cell_type": "code",
   "execution_count": 5,
   "metadata": {},
   "outputs": [
    {
     "data": {
      "text/plain": [
       "[-99999999.0, -1000.0, -12.2, -12.2, 0.0, 3.14159, 20.0, 50.2, 90.12]"
      ]
     },
     "execution_count": 5,
     "metadata": {},
     "output_type": "execute_result"
    }
   ],
   "source": [
    "def sort_descending_list(inp_list):  \n",
    "    return [inp_list[i] for i in range(len(inp_list)-1, -1, -1)]\n",
    "\n",
    "\n",
    "sort_descending_list([90.12, 50.2, 20.0, 3.14159, 0.0, -12.2, -12.2, -1000.0, -99999999.0])"
   ]
  },
  {
   "cell_type": "markdown",
   "metadata": {},
   "source": [
    "### Bài 2. Số Phức"
   ]
  },
  {
   "cell_type": "code",
   "execution_count": 6,
   "metadata": {},
   "outputs": [
    {
     "data": {
      "text/plain": [
       "[(2.57, -2.3),\n",
       " (6.67, 12.2),\n",
       " (9.09, 12.0),\n",
       " (8.97, -13.2),\n",
       " (34.5, 20.0),\n",
       " (32.4, -30.0),\n",
       " (-111.0, 20.2)]"
      ]
     },
     "execution_count": 6,
     "metadata": {},
     "output_type": "execute_result"
    }
   ],
   "source": [
    "# METHOD 1: Calculate modulo every comparison\n",
    "\n",
    "import math\n",
    "\n",
    "def modulo(a, b):\n",
    "    return math.sqrt(a**2 + b**2)\n",
    "\n",
    "def is_bigger_complex(num1, num2):\n",
    "    return modulo(num1[0], num1[1]) > modulo(num2[0], num2[1])\n",
    "\n",
    "def bubble_sort(arr):\n",
    "    for i in range(len(arr)-1, 0, -1):\n",
    "        for j in range(i):\n",
    "            if is_bigger_complex(arr[j], arr[j+1]):\n",
    "                arr[j], arr[j+1] = arr[j+1], arr[j]\n",
    "                \n",
    "def sort_complex_list(arr):\n",
    "    bubble_sort(arr)\n",
    "    return arr\n",
    "\n",
    "\n",
    "complex_list = [(32.4, -30.0), (2.57, -2.3), (-111.0, 20.2), (34.5, 20.0), (8.97, -13.2), (6.67, 12.2), (9.09, 12.0)]\n",
    "sort_complex_list(complex_list)"
   ]
  },
  {
   "cell_type": "code",
   "execution_count": 7,
   "metadata": {},
   "outputs": [
    {
     "data": {
      "text/plain": [
       "[(2.57, -2.3),\n",
       " (6.67, 12.2),\n",
       " (9.09, 12.0),\n",
       " (8.97, -13.2),\n",
       " (34.5, 20.0),\n",
       " (32.4, -30.0),\n",
       " (-111.0, 20.2)]"
      ]
     },
     "execution_count": 7,
     "metadata": {},
     "output_type": "execute_result"
    }
   ],
   "source": [
    "# METHOD 2: Calculate a modulo array, then sort 2 arrays simultaneously\n",
    "# => does not have to calculate modulo at every comparison\n",
    "# => faster in real time, but not change time and space complexities\n",
    "\n",
    "import math\n",
    "\n",
    "def modulo(a, b):\n",
    "    return math.sqrt(a**2 + b**2)\n",
    "\n",
    "def bubble_sort_parallel(arr, compare_arr):\n",
    "    for i in range(len(arr)-1, 0, -1):\n",
    "        for j in range(i):\n",
    "            if compare_arr[j] > compare_arr[j+1]:\n",
    "                arr[j], arr[j+1] = arr[j+1], arr[j]\n",
    "                compare_arr[j], compare_arr[j+1] = compare_arr[j+1], compare_arr[j]\n",
    "                \n",
    "def sort_complex_list(arr):\n",
    "    modulo_arr = [modulo(num[0], num[1]) for num in arr]\n",
    "    bubble_sort_parallel(arr, modulo_arr)\n",
    "    return arr\n",
    "\n",
    "\n",
    "complex_list = [(32.4, -30.0), (2.57, -2.3), (-111.0, 20.2), (34.5, 20.0), (8.97, -13.2), (6.67, 12.2), (9.09, 12.0)]\n",
    "sort_complex_list(complex_list)"
   ]
  },
  {
   "cell_type": "markdown",
   "metadata": {},
   "source": [
    "### Bài 3. Sắp Xếp Hai Tầng"
   ]
  },
  {
   "cell_type": "code",
   "execution_count": 8,
   "metadata": {},
   "outputs": [
    {
     "data": {
      "text/plain": [
       "[{'id': 12, 'math': 9.5, 'literature': 4.3},\n",
       " {'id': 984, 'math': 9.0, 'literature': 5.4},\n",
       " {'id': 324, 'math': 9.0, 'literature': 5.4}]"
      ]
     },
     "execution_count": 8,
     "metadata": {},
     "output_type": "execute_result"
    }
   ],
   "source": [
    "def is_student_after(student1, student2):\n",
    "    if student1['math'] != student2['math']:\n",
    "        return student1['math'] < student2['math']\n",
    "    return student1['literature'] < student2['literature']\n",
    "\n",
    "def bubble_sort(arr):\n",
    "    for i in range(len(arr)-1, 0, -1):\n",
    "        for j in range(i):\n",
    "            if is_student_after(arr[j], arr[j+1]):\n",
    "                arr[j], arr[j+1] = arr[j+1], arr[j]\n",
    "                \n",
    "def sort_student_grades(grade_list):\n",
    "    bubble_sort(grade_list)\n",
    "    return grade_list\n",
    "\n",
    "\n",
    "sort_student_grades([{'id': 984, 'math': 9.0, 'literature': 5.4}, {'id': 12, 'math': 9.5, 'literature': 4.3}, {'id': 324, 'math': 9.0, 'literature': 5.4}])"
   ]
  },
  {
   "cell_type": "markdown",
   "metadata": {},
   "source": [
    "### Bài 4. Nhập Dãy"
   ]
  },
  {
   "cell_type": "code",
   "execution_count": 9,
   "metadata": {},
   "outputs": [
    {
     "data": {
      "text/plain": [
       "[-99999999.0, -1000.0, -12.2, -12.2, 0.0, 3.14159, 20.0, 50.2, 90.12]"
      ]
     },
     "execution_count": 9,
     "metadata": {},
     "output_type": "execute_result"
    }
   ],
   "source": [
    "def merge_lists(arr1, arr2):\n",
    "\n",
    "    n1 = len(arr1)\n",
    "    n2 = len(arr2)\n",
    "    arr3 = [None] * (n1 + n2)\n",
    "    i = 0\n",
    "    j = 0\n",
    "    k = 0\n",
    " \n",
    "    # traverse both array until one is empty\n",
    "    while i < n1 and j < n2:\n",
    "        if arr1[i] < arr2[j]:\n",
    "            arr3[k] = arr1[i]\n",
    "            i += 1\n",
    "        else:\n",
    "            arr3[k] = arr2[j]\n",
    "            j += 1\n",
    "        k +=  1\n",
    "     \n",
    "    # get remaining elements\n",
    "    arr3[k:k+n1-i] = arr1[i:n1]\n",
    "    k += n1-i\n",
    "    arr3[k:k+n2-j] = arr2[j:n2]\n",
    " \n",
    "    return arr3\n",
    "\n",
    "\n",
    "arr1 = [-99999999.0, -12.2, 0.0, 20.0, 50.2, 90.12]\n",
    "arr2 = [-1000.0, -12.2, 3.14159]\n",
    "merge_lists(arr1, arr2)"
   ]
  },
  {
   "cell_type": "markdown",
   "metadata": {},
   "source": [
    "# LAB 6. THUẬT TOÁN SẮP XẾP (2)"
   ]
  },
  {
   "cell_type": "markdown",
   "metadata": {},
   "source": [
    "### Bài 1. Quick Sort Partition"
   ]
  },
  {
   "cell_type": "code",
   "execution_count": 10,
   "metadata": {},
   "outputs": [
    {
     "data": {
      "text/plain": [
       "([5, 9, 1, 12, 14, 6, 3, 10, 0, 0, 4, 20, 20, 15, 20, 75, 35, 30], 11)"
      ]
     },
     "execution_count": 10,
     "metadata": {},
     "output_type": "execute_result"
    }
   ],
   "source": [
    "def partition_mid(arr):\n",
    "\n",
    "    # choose pivot as middle element\n",
    "    mid = (len(arr)-1)//2\n",
    "    pivot = arr[mid]\n",
    "    \n",
    "    # use 2 index: i traverse from left to right, j from right to left\n",
    "    i = 0\n",
    "    j = len(arr)-1\n",
    "    while i <= j:\n",
    "        while arr[i] < pivot:\n",
    "            i += 1\n",
    "        while arr[j] > pivot:\n",
    "            j -= 1\n",
    "        if i <= j:  # swap if found arr[i] >= pivot >= arr[j]\n",
    "            arr[i], arr[j] = arr[j], arr[i]\n",
    "            i += 1\n",
    "            j -= 1\n",
    "            \n",
    "    return arr, i\n",
    "\n",
    "\n",
    "# driver code\n",
    "arr = [5, 9, 1, 12, 30, 35, 75, 10, 15, 20, 4, 0, 20, 0, 20, 3, 6, 14]\n",
    "partition_mid(arr)"
   ]
  },
  {
   "cell_type": "markdown",
   "metadata": {},
   "source": [
    "### Bài 2. Quicksort Với Pivot Giữa"
   ]
  },
  {
   "cell_type": "code",
   "execution_count": 11,
   "metadata": {},
   "outputs": [
    {
     "name": "stdout",
     "output_type": "stream",
     "text": [
      "Before sorting: [9999, 9998, 9997, 9996, 9995, 9994, 9993, 9992, 9991, 9990] ... [9, 8, 7, 6, 5, 4, 3, 2, 1, 0]\n",
      "After sorting: [0, 1, 2, 3, 4, 5, 6, 7, 8, 9] ... [9990, 9991, 9992, 9993, 9994, 9995, 9996, 9997, 9998, 9999]\n"
     ]
    }
   ],
   "source": [
    "def partition_mid(arr, left, right):\n",
    "\n",
    "    # choose pivot as middle element\n",
    "    mid = (left+right-1)//2 \n",
    "    pivot = arr[mid]\n",
    "    \n",
    "    # use 2 index: i traverse from left to right, j from right to left\n",
    "    i = left\n",
    "    j = right-1\n",
    "    while i <= j:\n",
    "        while arr[i] < pivot:\n",
    "            i += 1\n",
    "        while arr[j] > pivot:\n",
    "            j -= 1\n",
    "        if i <= j:  # swap if found arr[i] >= pivot >= arr[j]\n",
    "            arr[i], arr[j] = arr[j], arr[i]\n",
    "            i += 1\n",
    "            j -= 1\n",
    "            \n",
    "    return i\n",
    "\n",
    "\n",
    "def quick_sort_mid(arr, left, right):\n",
    "    if right-left <= 1:\n",
    "        return\n",
    "    partition_index = partition_mid(arr, left, right)\n",
    "    quick_sort_mid(arr, left, partition_index)\n",
    "    quick_sort_mid(arr, partition_index, right)\n",
    "\n",
    "\n",
    "def quick_sort_mid_pivot(arr):\n",
    "    quick_sort_mid(arr, 0, len(arr))\n",
    "    return arr\n",
    "    \n",
    "    \n",
    "# driver code\n",
    "num_arr = [i for i in range(9999, -1, -1)]\n",
    "print(\"Before sorting: {} ... {}\".format(num_arr[:10], num_arr[-10:]))\n",
    "\n",
    "quick_sort_mid(num_arr, 0, 10000)\n",
    "print(\"After sorting: {} ... {}\".format(num_arr[:10], num_arr[-10:]))"
   ]
  },
  {
   "cell_type": "markdown",
   "metadata": {},
   "source": [
    "### Bài 3. Hybrid Sort"
   ]
  },
  {
   "cell_type": "code",
   "execution_count": 12,
   "metadata": {},
   "outputs": [
    {
     "name": "stdout",
     "output_type": "stream",
     "text": [
      "Before sorting: [9999, 9998, 9997, 9996, 9995, 9994, 9993, 9992, 9991, 9990] ... [9, 8, 7, 6, 5, 4, 3, 2, 1, 0]\n",
      "After sorting: [0, 1, 2, 3, 4, 5, 6, 7, 8, 9] ... [9990, 9991, 9992, 9993, 9994, 9995, 9996, 9997, 9998, 9999]\n"
     ]
    }
   ],
   "source": [
    "def insertion_sort(arr, left, right):\n",
    "    for i in range(left, right):\n",
    "        j = i\n",
    "        while j > left and arr[j] < arr[j-1]:\n",
    "            arr[j], arr[j-1] = arr[j-1], arr[j]\n",
    "\n",
    "def partition_mid(arr, left, right):\n",
    "    mid = (left+right-1)//2\n",
    "    pivot = arr[mid]\n",
    "    i = left\n",
    "    j = right-1\n",
    "    while i <= j:\n",
    "        while arr[i] < pivot:\n",
    "            i += 1\n",
    "        while arr[j] > pivot:\n",
    "            j -= 1\n",
    "        if i <= j:\n",
    "            arr[i], arr[j] = arr[j], arr[i]\n",
    "            i += 1\n",
    "            j -= 1     \n",
    "    return i\n",
    "\n",
    "def hybrid_quick_sort(arr, left, right):\n",
    "    \n",
    "    if right-left <= 1:\n",
    "        return\n",
    "    \n",
    "    partition_index = partition_mid(arr, left, right)\n",
    "    \n",
    "    # sort left part\n",
    "    if partition_index-left < 10:\n",
    "        insertion_sort(arr, left, partition_index)\n",
    "    else:\n",
    "        hybrid_quick_sort(arr, left, partition_index)\n",
    "    \n",
    "    # sort right part\n",
    "    if right - partition_index < 10:\n",
    "        insertion_sort(arr, partition_index, right)\n",
    "    else:\n",
    "        hybrid_quick_sort(arr, partition_index, right)\n",
    "        \n",
    "def hybrid_sort(arr):\n",
    "    hybrid_quick_sort(arr, 0, len(arr))\n",
    "    return arr\n",
    "\n",
    "\n",
    "# driver code\n",
    "num_arr = [i for i in range(9999, -1, -1)]\n",
    "print(\"Before sorting: {} ... {}\".format(num_arr[:10], num_arr[-10:]))\n",
    "\n",
    "hybrid_sort(num_arr)\n",
    "print(\"After sorting: {} ... {}\".format(num_arr[:10], num_arr[-10:]))"
   ]
  }
 ],
 "metadata": {
  "kernelspec": {
   "display_name": "Python 3",
   "language": "python",
   "name": "python3"
  },
  "language_info": {
   "codemirror_mode": {
    "name": "ipython",
    "version": 3
   },
   "file_extension": ".py",
   "mimetype": "text/x-python",
   "name": "python",
   "nbconvert_exporter": "python",
   "pygments_lexer": "ipython3",
   "version": "3.8.3"
  }
 },
 "nbformat": 4,
 "nbformat_minor": 4
}
