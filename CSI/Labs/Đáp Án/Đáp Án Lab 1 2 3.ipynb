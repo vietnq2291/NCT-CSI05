{
 "cells": [
  {
   "cell_type": "markdown",
   "metadata": {},
   "source": [
    "## <center>Computer Science Intensive Course - MindX</center>\n",
    "![](./assets/logo.png)\n",
    "# <center>ĐÁP ÁN LAB 1 2 3</center>"
   ]
  },
  {
   "cell_type": "markdown",
   "metadata": {},
   "source": [
    "# LAB 1. ÔN TẬP PYTHON"
   ]
  },
  {
   "cell_type": "markdown",
   "metadata": {},
   "source": [
    "### Bài 1. Ví Dụ"
   ]
  },
  {
   "cell_type": "code",
   "execution_count": 1,
   "metadata": {},
   "outputs": [],
   "source": [
    "def uppercase(input_str):\n",
    "    return input_str.upper()"
   ]
  },
  {
   "cell_type": "markdown",
   "metadata": {},
   "source": [
    "### Bài 2. Đường Chéo Hình Vuông"
   ]
  },
  {
   "cell_type": "code",
   "execution_count": 12,
   "metadata": {},
   "outputs": [],
   "source": [
    "import math\n",
    "\n",
    "def cal_diagonal(edge_length):\n",
    "    return math.sqrt(2) * edge_length"
   ]
  },
  {
   "cell_type": "markdown",
   "metadata": {},
   "source": [
    "### Bài 3. Tổng Chữ Số"
   ]
  },
  {
   "cell_type": "code",
   "execution_count": 2,
   "metadata": {},
   "outputs": [],
   "source": [
    "def sum_digits(num):\n",
    "    res = 0\n",
    "    for i in range(4):\n",
    "        res += num % 10\n",
    "        num //= 10\n",
    "    return res"
   ]
  },
  {
   "cell_type": "markdown",
   "metadata": {},
   "source": [
    "### Bài 4. Thứ Trong Tuần"
   ]
  },
  {
   "cell_type": "code",
   "execution_count": 5,
   "metadata": {},
   "outputs": [],
   "source": [
    "# METHOD 1: Use 7 If statements\n",
    "# METHOD 2: Use a dictionary / array\n",
    "def day_in_week(day_int):\n",
    "    DAYS = {2: \"Monday\", 3: \"Tuesday\", 4: \"Wednesday\", 5: \"Thursday\", 6: \"Friday\", 7: \"Saturday\", 8: \"Sunday\"}\n",
    "    return DAYS[day_int]"
   ]
  },
  {
   "cell_type": "markdown",
   "metadata": {},
   "source": [
    "### Bài 5. Tìm Dãy Con"
   ]
  },
  {
   "cell_type": "code",
   "execution_count": 29,
   "metadata": {},
   "outputs": [],
   "source": [
    "# METHOD 1: Two For loops\n",
    "def find_substring(string, substring):\n",
    "    \n",
    "    n = len(string)\n",
    "    sub_n = len(substring)\n",
    "    \n",
    "    for i in range(n-sub_n+1):\n",
    "        count = 0\n",
    "        for j in range(sub_n):\n",
    "            if string[i+j] == substring[j]:\n",
    "                count += 1\n",
    "        if count == sub_n:\n",
    "            return i\n",
    "        \n",
    "    return -1"
   ]
  },
  {
   "cell_type": "code",
   "execution_count": 22,
   "metadata": {},
   "outputs": [],
   "source": [
    "# METHOD 2: One loop and list slicing (faster)\n",
    "def find_substring(string, substring):\n",
    "    \n",
    "    n = len(string)\n",
    "    sub_n = len(substring)\n",
    "    \n",
    "    for i in range(n-sub_n+1):\n",
    "        if substring == string[i:len(substring)+i]:\n",
    "            return i\n",
    "        \n",
    "    return -1"
   ]
  },
  {
   "cell_type": "markdown",
   "metadata": {},
   "source": [
    "# LAB 2. GIỚI THIỆU VỀ THUẬT TOÁN VÀ CẤU TRÚC DỮ LIỆU"
   ]
  },
  {
   "cell_type": "markdown",
   "metadata": {},
   "source": [
    "### Bài 1. Xâu Đối Xứng"
   ]
  },
  {
   "cell_type": "code",
   "execution_count": null,
   "metadata": {},
   "outputs": [],
   "source": [
    "def is_symmetric(inp):\n",
    "    \n",
    "    n = len(inp)\n",
    "    \n",
    "    # trivial case\n",
    "    if n <= 1:\n",
    "        return True\n",
    "    \n",
    "    # common cases\n",
    "    for i in range(n//2):\n",
    "        if inp[i] != inp[-i-1]:\n",
    "            return False\n",
    "        \n",
    "    return True"
   ]
  },
  {
   "cell_type": "markdown",
   "metadata": {},
   "source": [
    "### Bài 2. Số Siêu Nguyên Tố"
   ]
  },
  {
   "cell_type": "code",
   "execution_count": null,
   "metadata": {},
   "outputs": [],
   "source": [
    "import math\n",
    "\n",
    "# previously implemented in classroom\n",
    "def is_prime(num):\n",
    "    \n",
    "    # trivial case\n",
    "    if num == 1:\n",
    "        return False\n",
    "    \n",
    "    # common cases\n",
    "    result = True\n",
    "    for i in range(2, int(math.sqrt(num))+1):\n",
    "        if num % i == 0:\n",
    "            result = False\n",
    "            break\n",
    "            \n",
    "    return result\n",
    "\n",
    "\n",
    "def is_super_prime(num):\n",
    "    num_str = str(num)\n",
    "    for i in range(len(num_str)):\n",
    "        if not is_prime(int(num_str[:i+1])):  # check smallest numbers first\n",
    "            return False\n",
    "    return True"
   ]
  },
  {
   "cell_type": "markdown",
   "metadata": {},
   "source": [
    "### Bài 3. Kiểm Tra Tam Giác"
   ]
  },
  {
   "cell_type": "code",
   "execution_count": null,
   "metadata": {},
   "outputs": [],
   "source": [
    "# sort 3 numbers ascending\n",
    "def sort_asc(a, b, c):\n",
    "    if a > b:\n",
    "        a, b = b, a\n",
    "    if a > c:\n",
    "        a, c = c, a\n",
    "    if b > c:\n",
    "        b, c = c, b\n",
    "    return a, b, c\n",
    "\n",
    "\n",
    "def get_triangle_type(a, b, c):\n",
    "    \n",
    "    # trivial cases\n",
    "    if a <= 0 or b <= 0 or c <= 0:\n",
    "        return 0\n",
    "    \n",
    "    # sort so that a <= b <= c, for easily checking triangle conditions\n",
    "    a, b, c = sort_asc(a, b, c)\n",
    "    \n",
    "    # not a triangle\n",
    "    if a + b <= c:\n",
    "        return 0\n",
    "        \n",
    "    # calculate a^2 + b^2 and c^2\n",
    "    ab_square = a**2 + b**2\n",
    "    c_square = c**2\n",
    "    \n",
    "    # check 3 types of triangle\n",
    "    if ab_square > c_square:\n",
    "        return 1\n",
    "    elif ab_square == c_square:\n",
    "        return 2\n",
    "    else:\n",
    "        return 3"
   ]
  },
  {
   "cell_type": "markdown",
   "metadata": {},
   "source": [
    "### Bài 4. Đèn Tắt Mở"
   ]
  },
  {
   "cell_type": "code",
   "execution_count": null,
   "metadata": {},
   "outputs": [],
   "source": [
    "# METHOD: Count the number of Trues and Falses, then return the smaller value\n",
    "def count_switches(arr):\n",
    "    true_count = sum(arr)  # or a loop\n",
    "    false_count = len(arr) - true_count\n",
    "    return min(true_count, false_count)"
   ]
  },
  {
   "cell_type": "markdown",
   "metadata": {},
   "source": [
    "# LAB 3. CÁC CTDL TRONG PYTHON"
   ]
  },
  {
   "cell_type": "markdown",
   "metadata": {},
   "source": [
    "### Bài 1. Lọc Từ"
   ]
  },
  {
   "cell_type": "code",
   "execution_count": null,
   "metadata": {},
   "outputs": [],
   "source": [
    "def filter_word(inp_str):\n",
    "      \n",
    "    word_list = inp_str.lower().split(' ')\n",
    "    for i, word in enumerate(word_list):\n",
    "        word_list[i] = ''.join(c for c in word if c.isalpha())\n",
    "\n",
    "    word_set = set(word_list)\n",
    "    word_set.discard('')  # occurs on multiple spaces\n",
    "    word_list = list(word_set)\n",
    "    word_list.sort()\n",
    "  \n",
    "    return word_list"
   ]
  },
  {
   "cell_type": "markdown",
   "metadata": {},
   "source": [
    "### Bài 2. Cắt Chữ"
   ]
  },
  {
   "cell_type": "code",
   "execution_count": null,
   "metadata": {},
   "outputs": [],
   "source": [
    "def wrap_text(inp_str, k):\n",
    "    \n",
    "    word_list = inp_str.split(' ')  # split words\n",
    "    result_list = []\n",
    "    \n",
    "    count = 0\n",
    "    current_line = []\n",
    "    for word in word_list:  # loop through the words\n",
    "        length = len(word)\n",
    "        if count + length + len(current_line) <= k:  # if not longer than k, keep adding word to line\n",
    "            count += length\n",
    "            current_line += [word]\n",
    "        else:                                        # if longer than k, start a new line\n",
    "            result_list += [' '.join(current_line)]\n",
    "            count = length\n",
    "            current_line = [word]\n",
    "    # add the final line\n",
    "    result_list += [' '.join(current_line)]\n",
    "        \n",
    "    return result_list"
   ]
  },
  {
   "cell_type": "markdown",
   "metadata": {},
   "source": [
    "### Bài 3. Phần Tử Bất Thường"
   ]
  },
  {
   "cell_type": "code",
   "execution_count": null,
   "metadata": {},
   "outputs": [],
   "source": [
    "def find_anomaly(list_1, list_2):\n",
    "\n",
    "    # convert lists into set\n",
    "    set_1 = set(list_1)\n",
    "    set_2 = set(list_2)\n",
    "  \n",
    "    # take difference of greater set to smaller\n",
    "    if len(list_1) > len(list_2):\n",
    "        return set_1.difference(set_2).pop()\n",
    "    else:\n",
    "        return set_2.difference(set_1).pop()"
   ]
  },
  {
   "cell_type": "markdown",
   "metadata": {},
   "source": [
    "### Bài 4. Tổng Đường Chéo"
   ]
  },
  {
   "cell_type": "code",
   "execution_count": null,
   "metadata": {},
   "outputs": [],
   "source": [
    "def sum_diagonals(matrix):\n",
    "\n",
    "    n = len(matrix)\n",
    "    sum_1 = 0\n",
    "    sum_2 = 0\n",
    "    \n",
    "    for i in range(n):\n",
    "        sum_1 += matrix[i][i]\n",
    "        sum_2 += matrix[i][n-i-1]\n",
    "        \n",
    "    return (sum_1, sum_2)"
   ]
  }
 ],
 "metadata": {
  "kernelspec": {
   "display_name": "Python 3",
   "language": "python",
   "name": "python3"
  },
  "language_info": {
   "codemirror_mode": {
    "name": "ipython",
    "version": 3
   },
   "file_extension": ".py",
   "mimetype": "text/x-python",
   "name": "python",
   "nbconvert_exporter": "python",
   "pygments_lexer": "ipython3",
   "version": "3.8.3"
  }
 },
 "nbformat": 4,
 "nbformat_minor": 4
}
