{
 "cells": [
  {
   "cell_type": "markdown",
   "metadata": {},
   "source": [
    "## <center>Computer Science Intensive Course - MindX</center>\n",
    "![](./assets/logo.png)\n",
    "# <center>LAB 2. GIỚI THIỆU VỀ THUẬT TOÁN VÀ CẤU TRÚC DỮ LIỆU</center>"
   ]
  },
  {
   "cell_type": "code",
   "execution_count": 1,
   "metadata": {},
   "outputs": [],
   "source": [
    "# run this cell FIRST\n",
    "%run test_cases_2.ipynb"
   ]
  },
  {
   "cell_type": "markdown",
   "metadata": {},
   "source": [
    "## Bài 1. Xâu Đối Xứng\n",
    "Xâu đối xứng là một chuỗi ký tự có dạng đối xứng gương, nửa cuối của xâu bằng nửa đầu của xâu viết theo hướng ngược lại.  \n",
    "**Input**: Một chuỗi ký tự (string) với độ dài tối thiểu 1 và không quá 255 ký tự.  \n",
    "**Output**: Trả về True nếu chuỗi ký tự đối xứng, ngược lại trả về False.  \n",
    "**Ví dụ**:  \n",
    "Ví dụ 1:\n",
    "- Input: string = \"abcba\"\n",
    "- Output: True  \n",
    "\n",
    "Ví dụ 2:\n",
    "- Input: string = \"abccba\"\n",
    "- Output: True.  \n",
    "\n",
    "Ví dụ 3:\n",
    "- Input: string = \"abcabc\"\n",
    "- Output: False.  "
   ]
  },
  {
   "cell_type": "code",
   "execution_count": 2,
   "metadata": {},
   "outputs": [],
   "source": [
    "def is_symmetric(inp):\n",
    "    return inp == inp[::-1]"
   ]
  },
  {
   "cell_type": "code",
   "execution_count": 3,
   "metadata": {},
   "outputs": [
    {
     "name": "stdout",
     "output_type": "stream",
     "text": [
      "Testing on 9 cases.\n",
      "- Test 1 PASSED.\n",
      "- Test 2 PASSED.\n",
      "- Test 3 PASSED.\n",
      "- Test 4 PASSED.\n",
      "- Test 5 PASSED.\n",
      "- Test 6 PASSED.\n",
      "- Test 7 PASSED.\n",
      "- Test 8 PASSED.\n",
      "- Test 9 PASSED.\n",
      "CONGRATULATIONS! All test cases passed!\n"
     ]
    }
   ],
   "source": [
    "# !!! DO NOT MODIFY THIS CELL\n",
    "# Check result on test cases\n",
    "test1(is_symmetric)"
   ]
  },
  {
   "cell_type": "markdown",
   "metadata": {},
   "source": [
    "## Bài 2. Số Siêu Nguyên Tố\n",
    "Số siêu nguyên tố là một số nguyên tố với tính chất: khi ta xóa một số lượng chữ số tận cùng bất kỳ của nó, ta vẫn được một số nguyên tố.  \n",
    "**Input**: Một số nguyên *0 < n < 10^9*   \n",
    "**Output**: Trả về True nếu số vừa nhập là số siêu nguyên tố, ngược lại trả về False.   \n",
    "**Ví dụ**:  \n",
    "\n",
    "Ví dụ 1:\n",
    "- Input: n = 3739\n",
    "- Output: True\n",
    "- Giải thích: 3739, 373, 37, 3 đều là số nguyên tố\n",
    "\n",
    "Ví dụ 2:\n",
    "- Input: n = 47\n",
    "- Output: False\n",
    "- Giải thích: 47 là số nguyên tố nhưng 4 không phải số nguyên tố"
   ]
  },
  {
   "cell_type": "code",
   "execution_count": 15,
   "metadata": {},
   "outputs": [],
   "source": [
    "def is_prime(n):\n",
    "    if n==1:\n",
    "        return False\n",
    "    for i in range(2, int(n**(1/2))+1):\n",
    "        if n%i == 0:\n",
    "            return False\n",
    "    return True\n",
    "\n",
    "def is_super_prime(num):\n",
    "    n = num\n",
    "    while n>0:\n",
    "        if not is_prime(n):\n",
    "            return False\n",
    "        else:\n",
    "            n = n//10\n",
    "    return True\n",
    "    pass\n"
   ]
  },
  {
   "cell_type": "code",
   "execution_count": 16,
   "metadata": {},
   "outputs": [
    {
     "name": "stdout",
     "output_type": "stream",
     "text": [
      "Testing on 12 cases.\n",
      "- Test 1 PASSED.\n",
      "- Test 2 PASSED.\n",
      "- Test 3 PASSED.\n",
      "- Test 4 PASSED.\n",
      "- Test 5 PASSED.\n",
      "- Test 6 PASSED.\n",
      "- Test 7 PASSED.\n",
      "- Test 8 PASSED.\n",
      "- Test 9 PASSED.\n",
      "- Test 10 PASSED.\n",
      "- Test 11 PASSED.\n",
      "- Test 12 PASSED.\n",
      "CONGRATULATIONS! All test cases passed!\n"
     ]
    }
   ],
   "source": [
    "# !!! DO NOT MODIFY THIS CELL\n",
    "# Check result on test cases\n",
    "test2(is_super_prime)"
   ]
  },
  {
   "cell_type": "markdown",
   "metadata": {},
   "source": [
    "## Bài 3. Kiểm Tra Tam Giác\n",
    "**Input**: Ba số thực -10^9 < a, b, c < 10^9.  \n",
    "**Output**: Kiểm tra a, b, c có thể là độ dài ba cạnh của tam giác hay không. Nếu có, kiểm tra tam giác được tạo thành là tam giác nhọn (1), vuông (2) hay tù (3). Trả về 0 nếu không thể tạo thành tam giác; trả về 1, 2 hoặc 3 trong các trường hợp tam giác tương ứng.  \n",
    "**Ví dụ**:\n",
    "\n",
    "Ví dụ 1:\n",
    "- Input: a = 1, b = 2, c = 5\n",
    "- Output: 0\n",
    "- Giải thích: Ba đoạn thẳng với độ dài 1, 2, 5 không thể tạo thành một tam giác\n",
    "\n",
    "Ví dụ 2:\n",
    "- Input: a = 4, b = 3, c = 6\n",
    "- Output: 3\n",
    "- Giải thích: Ba đoạn thẳng với độ dài 3, 4, 6 tạo thành một tam giác tù (có góc đối diện cạnh c > 90 độ)"
   ]
  },
  {
   "cell_type": "code",
   "execution_count": 34,
   "metadata": {},
   "outputs": [
    {
     "name": "stdout",
     "output_type": "stream",
     "text": [
      "1\n"
     ]
    }
   ],
   "source": [
    "def get_triangle_type(a, b, c):\n",
    "    a, b, c = sorted([a, b, c])\n",
    "    if a+b<=c or a<=0 or b<=0 or c<=0:\n",
    "        return 0\n",
    "    angle = a*a+b*b-c*c\n",
    "    if angle>0:\n",
    "        return 1\n",
    "    if angle==0:\n",
    "        return 2\n",
    "    return 3"
   ]
  },
  {
   "cell_type": "code",
   "execution_count": 35,
   "metadata": {},
   "outputs": [
    {
     "name": "stdout",
     "output_type": "stream",
     "text": [
      "Testing on 13 cases.\n",
      "- Test 1 PASSED.\n",
      "- Test 2 PASSED.\n",
      "- Test 3 PASSED.\n",
      "- Test 4 PASSED.\n",
      "- Test 5 PASSED.\n",
      "- Test 6 PASSED.\n",
      "- Test 7 PASSED.\n",
      "- Test 8 PASSED.\n",
      "- Test 9 PASSED.\n",
      "- Test 10 PASSED.\n",
      "- Test 11 PASSED.\n",
      "- Test 12 PASSED.\n",
      "- Test 13 PASSED.\n",
      "CONGRATULATIONS! All test cases passed!\n"
     ]
    }
   ],
   "source": [
    "# !!! DO NOT MODIFY THIS CELL\n",
    "# Check result on test cases\n",
    "test3(get_triangle_type)"
   ]
  },
  {
   "cell_type": "markdown",
   "metadata": {},
   "source": [
    "## Bài 4. Đèn Tắt Mở\n",
    "Cho một dãy *n* bóng đèn. Mỗi bóng đèn có 2 trạng thái là Tắt hoặc Mở. Có *n* công tắc có thể thay đổi trạng thái của bóng đèn tương ứng (từ Tắt thành Mở và ngược lại). Tìm số lần ấn công tắc ít nhất sao cho tất cả bóng đèn đều ở cùng một trạng thái (cùng tắt hoặc cùng mở).  \n",
    "**Input**: Mảng *0 < n < 10^8* phần tử boolean, với True tương ứng trạng thái mở và False tương đương trạng thái tắt.    \n",
    "**Output**: Một số nguyên duy nhất là số lần ấn công tắc ít nhất để tất cả bóng đèn về cùng một trạng thái.    \n",
    "**Ví dụ**:\n",
    "\n",
    "Ví dụ 1:\n",
    "- Input: n = 3, arr = [True, True, False]\n",
    "- Output: result = 1\n",
    "- Giải thích: Ấn công tắc cuối cùng để tất cả bóng đèn đều mở\n",
    "\n",
    "Ví dụ 2:\n",
    "- Input: n = 4, arr = [True, True, False, False]\n",
    "- Output: result = 2\n",
    "- Giải thích: Ấn hai công tắc đầu tiên hoặc hai công tắc cuối cùng."
   ]
  },
  {
   "cell_type": "code",
   "execution_count": 38,
   "metadata": {},
   "outputs": [],
   "source": [
    "def count_switches(arr):\n",
    "    return min([arr.count(False), arr.count(True)])\n"
   ]
  },
  {
   "cell_type": "code",
   "execution_count": 39,
   "metadata": {},
   "outputs": [
    {
     "name": "stdout",
     "output_type": "stream",
     "text": [
      "Testing on 10 cases.\n",
      "- Test 1 PASSED.\n",
      "- Test 2 PASSED.\n",
      "- Test 3 PASSED.\n",
      "- Test 4 PASSED.\n",
      "- Test 5 PASSED.\n",
      "- Test 6 PASSED.\n",
      "- Test 7 PASSED.\n",
      "- Test 8 PASSED.\n",
      "- Test 9 PASSED.\n",
      "- Test 10 PASSED.\n",
      "CONGRATULATIONS! All test cases passed!\n"
     ]
    }
   ],
   "source": [
    "# !!! DO NOT MODIFY THIS CELL\n",
    "# Check result on test cases\n",
    "test4(count_switches)"
   ]
  },
  {
   "cell_type": "code",
   "execution_count": null,
   "metadata": {},
   "outputs": [],
   "source": []
  }
 ],
 "metadata": {
  "kernelspec": {
   "display_name": "base",
   "language": "python",
   "name": "python3"
  },
  "language_info": {
   "codemirror_mode": {
    "name": "ipython",
    "version": 3
   },
   "file_extension": ".py",
   "mimetype": "text/x-python",
   "name": "python",
   "nbconvert_exporter": "python",
   "pygments_lexer": "ipython3",
   "version": "3.9.13"
  },
  "vscode": {
   "interpreter": {
    "hash": "88279d2366fe020547cde40dd65aa0e3aa662a6ec1f3ca12d88834876c85e1a6"
   }
  }
 },
 "nbformat": 4,
 "nbformat_minor": 4
}
