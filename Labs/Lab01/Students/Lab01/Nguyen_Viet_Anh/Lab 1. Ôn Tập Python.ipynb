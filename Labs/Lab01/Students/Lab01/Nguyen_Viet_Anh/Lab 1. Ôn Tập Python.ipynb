{
 "cells": [
  {
   "cell_type": "markdown",
   "metadata": {},
   "source": [
    "## <center>Computer Science Intensive Course - MindX</center>\n",
    "![](./assets/logo.png)\n",
    "# <center>LAB 1. ÔN TẬP PYTHON</center>"
   ]
  },
  {
   "cell_type": "code",
   "execution_count": 6,
   "metadata": {},
   "outputs": [],
   "source": [
    "# run this cell FIRST\n",
    "%run test_cases_1.ipynb"
   ]
  },
  {
   "cell_type": "markdown",
   "metadata": {},
   "source": [
    "## Bài 1. Ví Dụ\n",
    "**Input**: Một chuỗi ký tự có độ dài > 1.  \n",
    "**Output**: Chuỗi ký tự được in hoa.  \n",
    "**Hướng dẫn**: Hiện thực hàm uppercase(), nhận một tham số string là chuỗi ký tự được nhập.  \n",
    "**Ví dụ**:\n",
    "- Input: This is a string\n",
    "- Output: result = \"THIS IS A STRING\""
   ]
  },
  {
   "cell_type": "code",
   "execution_count": 26,
   "metadata": {},
   "outputs": [
    {
     "data": {
      "text/plain": [
       "'THIS IS A STRING'"
      ]
     },
     "execution_count": 26,
     "metadata": {},
     "output_type": "execute_result"
    }
   ],
   "source": [
    "def uppercase(input_str):\n",
    "    return input_str.upper()\n",
    "\n",
    "\n",
    "# do some test\n",
    "uppercase(\"This is a string\")"
   ]
  },
  {
   "cell_type": "markdown",
   "metadata": {},
   "source": [
    "Kiểm tra kết quả:"
   ]
  },
  {
   "cell_type": "code",
   "execution_count": 27,
   "metadata": {},
   "outputs": [
    {
     "name": "stdout",
     "output_type": "stream",
     "text": [
      "Testing on 5 cases.\n",
      "- Test 1 PASSED.\n",
      "- Test 2 PASSED.\n",
      "- Test 3 PASSED.\n",
      "- Test 4 PASSED.\n",
      "- Test 5 PASSED.\n",
      "CONGRATULATIONS! All test cases passed!\n"
     ]
    }
   ],
   "source": [
    "# !!! DO NOT MODIFY THIS CELL\n",
    "# Check result on test cases\n",
    "test1(uppercase)"
   ]
  },
  {
   "cell_type": "markdown",
   "metadata": {},
   "source": [
    "## Bài 2. Đường Chéo Hình Vuông\n",
    "**Input**: Một số thực *a* là độ dài một cạnh của hình vuông.  \n",
    "**Output**: Độ dài đường chéo của hình vuông đó.  \n",
    "Biết:\n",
    "- Công thức Pytago cho tam giác ABC vuông tại A:\n",
    "$\\begin{equation} AB^2 + AC^2 = BC^2 \\end{equation}$\n",
    "- Hàm tính căn bậc 2 trong thư viện *math*: *sqrt()*\n",
    "\n",
    "**Ví dụ**:\n",
    "- Input: a = 2\n",
    "- Output: 2.8284271247461903"
   ]
  },
  {
   "cell_type": "code",
   "execution_count": 32,
   "metadata": {},
   "outputs": [
    {
     "data": {
      "text/plain": [
       "2.8284271247461903"
      ]
     },
     "execution_count": 32,
     "metadata": {},
     "output_type": "execute_result"
    }
   ],
   "source": [
    "import math\n",
    "\n",
    "def cal_diagonal(edge_length):\n",
    "    return math.sqrt(edge_length*edge_length + edge_length*edge_length)\n",
    "\n",
    "cal_diagonal(2)\n"
   ]
  },
  {
   "cell_type": "code",
   "execution_count": 33,
   "metadata": {},
   "outputs": [
    {
     "name": "stdout",
     "output_type": "stream",
     "text": [
      "Testing on 7 cases.\n",
      "- Test 1 PASSED.\n",
      "- Test 2 PASSED.\n",
      "- Test 3 PASSED.\n",
      "- Test 4 PASSED.\n",
      "- Test 5 PASSED.\n",
      "- Test 6 PASSED.\n",
      "- Test 7 PASSED.\n",
      "CONGRATULATIONS! All test cases passed!\n"
     ]
    }
   ],
   "source": [
    "# !!! DO NOT MODIFY THIS CELL\n",
    "# Check result on test cases\n",
    "test2(cal_diagonal)"
   ]
  },
  {
   "cell_type": "markdown",
   "metadata": {},
   "source": [
    "## Bài 3. Tổng Chữ Số\n",
    "**Input**: Một số nguyên *n* có 4 chữ số  \n",
    "**Output**: Tổng các chữ số trong *n*  \n",
    "**Ví dụ**:\n",
    "- Input: n = 1234\n",
    "- Output: result = 10\n",
    "- Giải thích: result = 1+2+3+4 = 10"
   ]
  },
  {
   "cell_type": "code",
   "execution_count": 34,
   "metadata": {},
   "outputs": [
    {
     "data": {
      "text/plain": [
       "10"
      ]
     },
     "execution_count": 34,
     "metadata": {},
     "output_type": "execute_result"
    }
   ],
   "source": [
    "def sum_digits(num):\n",
    "    temp = 0\n",
    "    while(num!=0):\n",
    "        temp+=num%10\n",
    "        num= num // 10\n",
    "    return temp\n",
    "\n",
    "sum_digits(1234)"
   ]
  },
  {
   "cell_type": "code",
   "execution_count": 35,
   "metadata": {},
   "outputs": [
    {
     "name": "stdout",
     "output_type": "stream",
     "text": [
      "Testing on 6 cases.\n",
      "- Test 1 PASSED.\n",
      "- Test 2 PASSED.\n",
      "- Test 3 PASSED.\n",
      "- Test 4 PASSED.\n",
      "- Test 5 PASSED.\n",
      "- Test 6 PASSED.\n",
      "CONGRATULATIONS! All test cases passed!\n"
     ]
    }
   ],
   "source": [
    "# !!! DO NOT MODIFY THIS CELL\n",
    "# Check result on test cases\n",
    "test3(sum_digits)"
   ]
  },
  {
   "cell_type": "markdown",
   "metadata": {},
   "source": [
    "## Bài 4. Thứ Trong Tuần\n",
    "**Input**: Một số nguyên *2 <= n <= 8*.  \n",
    "**Output**: Tên của thứ tương ứng trong tuần.  \n",
    "**Ví dụ**:  \n",
    "Ví dụ 1:\n",
    "- Input: n = 2\n",
    "- Output: Monday  \n",
    "\n",
    "Ví dụ 2:\n",
    "- Input: n = 8\n",
    "- Output: Sunday"
   ]
  },
  {
   "cell_type": "code",
   "execution_count": 36,
   "metadata": {},
   "outputs": [
    {
     "data": {
      "text/plain": [
       "'Monday'"
      ]
     },
     "execution_count": 36,
     "metadata": {},
     "output_type": "execute_result"
    }
   ],
   "source": [
    "def day_in_week(day_int):\n",
    "    if day_int == 2 :\n",
    "        return(\"Monday\");\n",
    "    elif day_int == 3 :\n",
    "        return(\"Tuesday\")\n",
    "    elif day_int == 4 :\n",
    "        return(\"Wednesday\")\n",
    "    elif day_int == 5 :\n",
    "        return(\"Thursday\")\n",
    "    elif day_int == 6 :\n",
    "        return(\"Friday\")\n",
    "    elif day_int == 7 :\n",
    "        return(\"Saturday\")\n",
    "    elif day_int == 8 :\n",
    "        return(\"Sunday\")\n",
    "    else :\n",
    "        return(\"Please enter any day_int number (1-7)\")\n",
    "day_in_week(2)"
   ]
  },
  {
   "cell_type": "code",
   "execution_count": 37,
   "metadata": {},
   "outputs": [
    {
     "name": "stdout",
     "output_type": "stream",
     "text": [
      "Testing on 7 cases.\n",
      "- Test 1 PASSED.\n",
      "- Test 2 PASSED.\n",
      "- Test 3 PASSED.\n",
      "- Test 4 PASSED.\n",
      "- Test 5 PASSED.\n",
      "- Test 6 PASSED.\n",
      "- Test 7 PASSED.\n",
      "CONGRATULATIONS! All test cases passed!\n"
     ]
    }
   ],
   "source": [
    "# !!! DO NOT MODIFY THIS CELL\n",
    "# Check result on test cases\n",
    "test4(day_in_week)"
   ]
  },
  {
   "cell_type": "markdown",
   "metadata": {},
   "source": [
    "## Bài 5. Tìm Dãy Con\n",
    "Một dãy con là một dãy liên tiếp các ký tự trong một chuỗi ký tự (string).  \n",
    "**Input**: Một chuỗi ký tự S và một chuỗi ký tự sub_s có độ dài >= 1.  \n",
    "**Output**: Index đầu tiên của sub_s trong S. Trả về -1 nếu không tìm thấy.  \n",
    "**Ví dụ**:  \n",
    "Ví dụ 1:\n",
    "- Input: S = \"abcdef\", s = \"bc\"\n",
    "- Output: result = 1\n",
    "- Giải thích: Dãy con \"bc\" được tìm thấy tại vị trí S[1]\n",
    "\n",
    "Ví dụ 2:  \n",
    "- Input: S = \"abcdefabcdef\", s = \"bc\"\n",
    "- Output: result = 1\n",
    "- Giải thích: Dãy con \"bc\" được tìm thấy tại vị trí S[1] và S[7], tuy nhiên ta chỉ cần in ra vị trí đầu tiên tìm thấy.\n",
    "\n",
    "Ví dụ 3:\n",
    "- Input: S = \"ABCDEF\", s = \"bc\"\n",
    "- Output: result = -1"
   ]
  },
  {
   "cell_type": "code",
   "execution_count": 38,
   "metadata": {},
   "outputs": [
    {
     "data": {
      "text/plain": [
       "1"
      ]
     },
     "execution_count": 38,
     "metadata": {},
     "output_type": "execute_result"
    }
   ],
   "source": [
    "def find_substring(string, substring):\n",
    "    return string.find(substring)\n",
    "s1 = input('S= ')\n",
    "s2 = input('s= ')\n",
    "find_substring(s1,s2)"
   ]
  },
  {
   "cell_type": "code",
   "execution_count": 39,
   "metadata": {},
   "outputs": [
    {
     "name": "stdout",
     "output_type": "stream",
     "text": [
      "Testing on 7 cases.\n",
      "- Test 1 PASSED.\n",
      "- Test 2 PASSED.\n",
      "- Test 3 PASSED.\n",
      "- Test 4 PASSED.\n",
      "- Test 5 PASSED.\n",
      "- Test 6 PASSED.\n",
      "- Test 7 PASSED.\n",
      "CONGRATULATIONS! All test cases passed!\n"
     ]
    }
   ],
   "source": [
    "# !!! DO NOT MODIFY THIS CELL\n",
    "# Check result on test cases\n",
    "test5(find_substring)"
   ]
  },
  {
   "cell_type": "code",
   "execution_count": null,
   "metadata": {},
   "outputs": [],
   "source": []
  }
 ],
 "metadata": {
  "kernelspec": {
   "display_name": "Python 3",
   "language": "python",
   "name": "python3"
  },
  "language_info": {
   "codemirror_mode": {
    "name": "ipython",
    "version": 3
   },
   "file_extension": ".py",
   "mimetype": "text/x-python",
   "name": "python",
   "nbconvert_exporter": "python",
   "pygments_lexer": "ipython3",
   "version": "3.10.4 (tags/v3.10.4:9d38120, Mar 23 2022, 23:13:41) [MSC v.1929 64 bit (AMD64)]"
  },
  "vscode": {
   "interpreter": {
    "hash": "31671a60cee805c34c73116577b485118ff3a75c458d3004d49632c19702ac60"
   }
  }
 },
 "nbformat": 4,
 "nbformat_minor": 4
}
