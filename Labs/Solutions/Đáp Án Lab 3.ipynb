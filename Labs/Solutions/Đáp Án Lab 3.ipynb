{
 "cells": [
  {
   "cell_type": "markdown",
   "metadata": {},
   "source": [
    "## <center>Computer Science Intensive Course - MindX</center>\n",
    "![](./assets/logo.png)\n",
    "# <center>ĐÁP ÁN LAB 1 2 3</center>"
   ]
  },
  {
   "cell_type": "markdown",
   "metadata": {},
   "source": [
    "# LAB 3. CÁC CTDL TRONG PYTHON"
   ]
  },
  {
   "cell_type": "markdown",
   "metadata": {},
   "source": [
    "### Bài 1. Lọc Từ"
   ]
  },
  {
   "cell_type": "code",
   "execution_count": null,
   "metadata": {},
   "outputs": [],
   "source": [
    "def filter_word(inp_str):\n",
    "      \n",
    "    word_list = inp_str.lower().split(' ')\n",
    "    for i, word in enumerate(word_list):\n",
    "        word_list[i] = ''.join(c for c in word if c.isalpha())\n",
    "\n",
    "    word_set = set(word_list)\n",
    "    word_set.discard('')  # occurs on multiple spaces\n",
    "    word_list = list(word_set)\n",
    "    word_list.sort()\n",
    "  \n",
    "    return word_list"
   ]
  },
  {
   "cell_type": "markdown",
   "metadata": {},
   "source": [
    "### Bài 2. Cắt Chữ"
   ]
  },
  {
   "cell_type": "code",
   "execution_count": null,
   "metadata": {},
   "outputs": [],
   "source": [
    "def wrap_text(inp_str, k):\n",
    "    \n",
    "    word_list = inp_str.split(' ')  # split words\n",
    "    result_list = []\n",
    "    \n",
    "    count = 0\n",
    "    current_line = []\n",
    "    for word in word_list:  # loop through the words\n",
    "        length = len(word)\n",
    "        if count + length + len(current_line) <= k:  # if not longer than k, keep adding word to line\n",
    "            count += length\n",
    "            current_line += [word]\n",
    "        else:                                        # if longer than k, start a new line\n",
    "            result_list += [' '.join(current_line)]\n",
    "            count = length\n",
    "            current_line = [word]\n",
    "    # add the final line\n",
    "    result_list += [' '.join(current_line)]\n",
    "        \n",
    "    return result_list"
   ]
  },
  {
   "cell_type": "markdown",
   "metadata": {},
   "source": [
    "### Bài 3. Phần Tử Bất Thường"
   ]
  },
  {
   "cell_type": "code",
   "execution_count": null,
   "metadata": {},
   "outputs": [],
   "source": [
    "def find_anomaly(list_1, list_2):\n",
    "\n",
    "    # convert lists into set\n",
    "    set_1 = set(list_1)\n",
    "    set_2 = set(list_2)\n",
    "  \n",
    "    # take difference of greater set to smaller\n",
    "    if len(list_1) > len(list_2):\n",
    "        return set_1.difference(set_2).pop()\n",
    "    else:\n",
    "        return set_2.difference(set_1).pop()"
   ]
  },
  {
   "cell_type": "markdown",
   "metadata": {},
   "source": [
    "### Bài 4. Tổng Đường Chéo"
   ]
  },
  {
   "cell_type": "code",
   "execution_count": null,
   "metadata": {},
   "outputs": [],
   "source": [
    "def sum_diagonals(matrix):\n",
    "\n",
    "    n = len(matrix)\n",
    "    sum_1 = 0\n",
    "    sum_2 = 0\n",
    "    \n",
    "    for i in range(n):\n",
    "        sum_1 += matrix[i][i]\n",
    "        sum_2 += matrix[i][n-i-1]\n",
    "        \n",
    "    return (sum_1, sum_2)"
   ]
  }
 ],
 "metadata": {
  "kernelspec": {
   "display_name": "Python 3.10.4 64-bit",
   "language": "python",
   "name": "python3"
  },
  "language_info": {
   "codemirror_mode": {
    "name": "ipython",
    "version": 3
   },
   "file_extension": ".py",
   "mimetype": "text/x-python",
   "name": "python",
   "nbconvert_exporter": "python",
   "pygments_lexer": "ipython3",
   "version": "3.10.4"
  },
  "vscode": {
   "interpreter": {
    "hash": "916dbcbb3f70747c44a77c7bcd40155683ae19c65e1c03b4aa3499c5328201f1"
   }
  }
 },
 "nbformat": 4,
 "nbformat_minor": 4
}
