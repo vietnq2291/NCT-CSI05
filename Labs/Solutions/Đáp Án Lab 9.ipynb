{
 "cells": [
  {
   "cell_type": "markdown",
   "metadata": {},
   "source": [
    "## <center>Computer Science Intensive Course - MindX</center>\n",
    "![](./assets/logo.png)\n",
    "# <center>ĐÁP ÁN LAB 7 9 10</center>"
   ]
  },
  {
   "cell_type": "markdown",
   "metadata": {},
   "source": [
    "### Bài 4. Hàm sorted(): So Sánh Trên Nhiều Key"
   ]
  },
  {
   "cell_type": "code",
   "execution_count": 5,
   "metadata": {},
   "outputs": [],
   "source": [
    "def sort_student_grades_all(grade_list):\n",
    "    return sorted(grade_list, reverse=True, key=lambda grade: (grade['math'], grade['literature']))"
   ]
  },
  {
   "cell_type": "markdown",
   "metadata": {},
   "source": [
    "# LAB 9. STACK VÀ QUEUE"
   ]
  },
  {
   "cell_type": "markdown",
   "metadata": {},
   "source": [
    "### Bài 1. Dãy Con Chẵn"
   ]
  },
  {
   "cell_type": "code",
   "execution_count": 6,
   "metadata": {},
   "outputs": [
    {
     "data": {
      "text/plain": [
       "'1010'"
      ]
     },
     "execution_count": 6,
     "metadata": {},
     "output_type": "execute_result"
    }
   ],
   "source": [
    "from collections import deque\n",
    "\n",
    "def reduce(sequence):\n",
    "    \n",
    "    # init stack\n",
    "    stack = deque()\n",
    "    \n",
    "    # traverse the sequence\n",
    "    for el in sequence:\n",
    "        if len(stack) == 0 or stack[-1] != el:  # if no matching element in the top of stack...\n",
    "            stack.append(el)                    # ... push element to stack\n",
    "        else:                                   # if exist matching element => pop that element\n",
    "            stack.pop()\n",
    "            \n",
    "    # convert the stack to list, then join to string\n",
    "    return ''.join(list(stack))\n",
    "\n",
    "\n",
    "# driver code\n",
    "reduce(\"1010000110\")"
   ]
  },
  {
   "cell_type": "markdown",
   "metadata": {},
   "source": [
    "### Bài 2. Dãy Ngoặc Đúng (2)"
   ]
  },
  {
   "cell_type": "code",
   "execution_count": 7,
   "metadata": {},
   "outputs": [
    {
     "data": {
      "text/plain": [
       "True"
      ]
     },
     "execution_count": 7,
     "metadata": {},
     "output_type": "execute_result"
    }
   ],
   "source": [
    "from collections import deque\n",
    "\n",
    "def is_valid(sequence):\n",
    "    \n",
    "    # init stack\n",
    "    stack = deque()\n",
    "    par_dict = {')': '(', ']': '[', '}': '{'}\n",
    "    \n",
    "    # traverse the sequence\n",
    "    for par in sequence:\n",
    "        if par in ['(', '[', '{']:  # if open parenthesis: add to stack\n",
    "            stack.append(par)\n",
    "        else:                       # if close parenthesis...\n",
    "            if len(stack) > 0 and stack[-1] == par_dict[par]:  # check for matching open parenthesis\n",
    "                stack.pop()\n",
    "            else:               # if stack has no open parenthesis to match => invalid sequence\n",
    "                return False\n",
    "    \n",
    "    # return True if stack has no open parenthesis left\n",
    "    return len(stack) == 0\n",
    "\n",
    "\n",
    "is_valid(\"([{}])({})\")"
   ]
  },
  {
   "cell_type": "markdown",
   "metadata": {},
   "source": [
    "### Bài 3. Postfix"
   ]
  },
  {
   "cell_type": "code",
   "execution_count": 8,
   "metadata": {},
   "outputs": [
    {
     "data": {
      "text/plain": [
       "4.5"
      ]
     },
     "execution_count": 8,
     "metadata": {},
     "output_type": "execute_result"
    }
   ],
   "source": [
    "from collections import deque\n",
    "\n",
    "# evaluate result of a single operation\n",
    "def eval_operation(value1, value2, operator):\n",
    "    if operator == '+':\n",
    "        return value1 + value2\n",
    "    if operator == '-':\n",
    "        return value1 - value2\n",
    "    if operator == '*':\n",
    "        return value1 * value2\n",
    "    if operator == '/':\n",
    "        return value1 / value2\n",
    "    if operator == '^':\n",
    "        return value1 ** value2\n",
    "    \n",
    "\n",
    "# evaluate a postfix expression\n",
    "def eval_postfix(expression):\n",
    "    \n",
    "    # init\n",
    "    stack = deque()\n",
    "    \n",
    "    # traverse the expression\n",
    "    for el in expression.split(\" \"):\n",
    "        try:     # push operands to stack\n",
    "            stack.append(float(el))\n",
    "        except:  # handle operator: calculate operation result and put back to stack\n",
    "            value2 = stack.pop()\n",
    "            value1 = stack.pop()\n",
    "            operation_result = eval_operation(value1, value2, el)\n",
    "            stack.append(operation_result)\n",
    "            \n",
    "    return stack.pop()\n",
    "\n",
    "\n",
    "eval_postfix(\"5 2 ^ 5 2 * / 2 +\")"
   ]
  },
  {
   "cell_type": "markdown",
   "metadata": {},
   "source": [
    "### Bài 4. Chuyển Đổi Infix Và Postfix"
   ]
  },
  {
   "cell_type": "code",
   "execution_count": 9,
   "metadata": {},
   "outputs": [
    {
     "data": {
      "text/plain": [
       "('5 2 ^ 5 3 * / 2 +', 3.666666666666667)"
      ]
     },
     "execution_count": 9,
     "metadata": {},
     "output_type": "execute_result"
    }
   ],
   "source": [
    "from collections import deque\n",
    "\n",
    "\n",
    "# check if op1 has higher precedence than op2\n",
    "def is_precede(op1, op2):\n",
    "    precedence = {'(': 0,\n",
    "                  '+': 1, '-': 1,\n",
    "                  '*': 2, '/': 2,\n",
    "                  '^': 3}\n",
    "    return precedence[op1] >= precedence[op2]  # equal case applied as op1 comes before op2\n",
    "\n",
    "\n",
    "# convert infix expression to postfix expression\n",
    "def infix_to_postfix(infix):\n",
    "\n",
    "    # init\n",
    "    stack = deque()\n",
    "    postfix = []\n",
    "\n",
    "    # traverse infix expression\n",
    "    for el in infix.split(' '):\n",
    "        try:           # if found operand => add to postfix\n",
    "            float(el)\n",
    "            postfix.append(el)\n",
    "        except:        # if found operator...\n",
    "            if el in ['(', '^']:  # ... always push ( and ^ to stack; ^ has highest precedence\n",
    "                stack.append(el)\n",
    "            elif el == ')':       # ... if found )\n",
    "                while True:  # do-while loop; add to postfix every operators inside ( )\n",
    "                    operator = stack.pop()\n",
    "                    if operator == '(':\n",
    "                        break\n",
    "                    postfix.append(operator)\n",
    "            else:                 # ... other operators: + - * /\n",
    "                # add to postfix every operators that has higher precedence\n",
    "                while len(stack) > 0 and is_precede(stack[-1], el):\n",
    "                    postfix.append(stack.pop())\n",
    "                stack.append(el)\n",
    "    \n",
    "    # add the remaining operators to postfix\n",
    "    while len(stack) > 0:\n",
    "        postfix.append(stack.pop())\n",
    "        \n",
    "    return ' '.join(postfix)\n",
    "\n",
    "\n",
    "def infix_to_postfix_evaluate(infix):\n",
    "    postfix_str = infix_to_postfix(infix)\n",
    "    expr_value = eval_postfix(postfix_str)\n",
    "    return postfix_str, expr_value\n",
    "\n",
    "\n",
    "infix_to_postfix_evaluate(\"5 ^ 2 / ( 5 * 3 ) + 2\")"
   ]
  }
 ],
 "metadata": {
  "kernelspec": {
   "display_name": "Python 3.10.4 64-bit",
   "language": "python",
   "name": "python3"
  },
  "language_info": {
   "codemirror_mode": {
    "name": "ipython",
    "version": 3
   },
   "file_extension": ".py",
   "mimetype": "text/x-python",
   "name": "python",
   "nbconvert_exporter": "python",
   "pygments_lexer": "ipython3",
   "version": "3.10.4"
  },
  "vscode": {
   "interpreter": {
    "hash": "916dbcbb3f70747c44a77c7bcd40155683ae19c65e1c03b4aa3499c5328201f1"
   }
  }
 },
 "nbformat": 4,
 "nbformat_minor": 4
}
