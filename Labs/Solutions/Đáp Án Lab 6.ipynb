{
 "cells": [
  {
   "cell_type": "markdown",
   "metadata": {},
   "source": [
    "## <center>Computer Science Intensive Course - MindX</center>\n",
    "![](./assets/logo.png)\n",
    "# <center>ĐÁP ÁN LAB 4 5 6</center>"
   ]
  },
  {
   "cell_type": "markdown",
   "metadata": {},
   "source": [
    "# LAB 6. THUẬT TOÁN SẮP XẾP (2)"
   ]
  },
  {
   "cell_type": "markdown",
   "metadata": {},
   "source": [
    "### Bài 1. Quick Sort Partition"
   ]
  },
  {
   "cell_type": "code",
   "execution_count": 10,
   "metadata": {},
   "outputs": [
    {
     "data": {
      "text/plain": [
       "([5, 9, 1, 12, 14, 6, 3, 10, 0, 0, 4, 20, 20, 15, 20, 75, 35, 30], 11)"
      ]
     },
     "execution_count": 10,
     "metadata": {},
     "output_type": "execute_result"
    }
   ],
   "source": [
    "def partition_mid(arr):\n",
    "\n",
    "    # choose pivot as middle element\n",
    "    mid = (len(arr)-1)//2\n",
    "    pivot = arr[mid]\n",
    "    \n",
    "    # use 2 index: i traverse from left to right, j from right to left\n",
    "    i = 0\n",
    "    j = len(arr)-1\n",
    "    while i <= j:\n",
    "        while arr[i] < pivot:\n",
    "            i += 1\n",
    "        while arr[j] > pivot:\n",
    "            j -= 1\n",
    "        if i <= j:  # swap if found arr[i] >= pivot >= arr[j]\n",
    "            arr[i], arr[j] = arr[j], arr[i]\n",
    "            i += 1\n",
    "            j -= 1\n",
    "            \n",
    "    return arr, i\n",
    "\n",
    "\n",
    "# driver code\n",
    "arr = [5, 9, 1, 12, 30, 35, 75, 10, 15, 20, 4, 0, 20, 0, 20, 3, 6, 14]\n",
    "partition_mid(arr)"
   ]
  },
  {
   "cell_type": "markdown",
   "metadata": {},
   "source": [
    "### Bài 2. Quicksort Với Pivot Giữa"
   ]
  },
  {
   "cell_type": "code",
   "execution_count": 11,
   "metadata": {},
   "outputs": [
    {
     "name": "stdout",
     "output_type": "stream",
     "text": [
      "Before sorting: [9999, 9998, 9997, 9996, 9995, 9994, 9993, 9992, 9991, 9990] ... [9, 8, 7, 6, 5, 4, 3, 2, 1, 0]\n",
      "After sorting: [0, 1, 2, 3, 4, 5, 6, 7, 8, 9] ... [9990, 9991, 9992, 9993, 9994, 9995, 9996, 9997, 9998, 9999]\n"
     ]
    }
   ],
   "source": [
    "def partition_mid(arr, left, right):\n",
    "\n",
    "    # choose pivot as middle element\n",
    "    mid = (left+right-1)//2 \n",
    "    pivot = arr[mid]\n",
    "    \n",
    "    # use 2 index: i traverse from left to right, j from right to left\n",
    "    i = left\n",
    "    j = right-1\n",
    "    while i <= j:\n",
    "        while arr[i] < pivot:\n",
    "            i += 1\n",
    "        while arr[j] > pivot:\n",
    "            j -= 1\n",
    "        if i <= j:  # swap if found arr[i] >= pivot >= arr[j]\n",
    "            arr[i], arr[j] = arr[j], arr[i]\n",
    "            i += 1\n",
    "            j -= 1\n",
    "            \n",
    "    return i\n",
    "\n",
    "\n",
    "def quick_sort_mid(arr, left, right):\n",
    "    if right-left <= 1:\n",
    "        return\n",
    "    partition_index = partition_mid(arr, left, right)\n",
    "    quick_sort_mid(arr, left, partition_index)\n",
    "    quick_sort_mid(arr, partition_index, right)\n",
    "\n",
    "\n",
    "def quick_sort_mid_pivot(arr):\n",
    "    quick_sort_mid(arr, 0, len(arr))\n",
    "    return arr\n",
    "    \n",
    "    \n",
    "# driver code\n",
    "num_arr = [i for i in range(9999, -1, -1)]\n",
    "print(\"Before sorting: {} ... {}\".format(num_arr[:10], num_arr[-10:]))\n",
    "\n",
    "quick_sort_mid(num_arr, 0, 10000)\n",
    "print(\"After sorting: {} ... {}\".format(num_arr[:10], num_arr[-10:]))"
   ]
  },
  {
   "cell_type": "markdown",
   "metadata": {},
   "source": [
    "### Bài 3. Hybrid Sort"
   ]
  },
  {
   "cell_type": "code",
   "execution_count": 12,
   "metadata": {},
   "outputs": [
    {
     "name": "stdout",
     "output_type": "stream",
     "text": [
      "Before sorting: [9999, 9998, 9997, 9996, 9995, 9994, 9993, 9992, 9991, 9990] ... [9, 8, 7, 6, 5, 4, 3, 2, 1, 0]\n",
      "After sorting: [0, 1, 2, 3, 4, 5, 6, 7, 8, 9] ... [9990, 9991, 9992, 9993, 9994, 9995, 9996, 9997, 9998, 9999]\n"
     ]
    }
   ],
   "source": [
    "def insertion_sort(arr, left, right):\n",
    "    for i in range(left, right):\n",
    "        j = i\n",
    "        while j > left and arr[j] < arr[j-1]:\n",
    "            arr[j], arr[j-1] = arr[j-1], arr[j]\n",
    "\n",
    "def partition_mid(arr, left, right):\n",
    "    mid = (left+right-1)//2\n",
    "    pivot = arr[mid]\n",
    "    i = left\n",
    "    j = right-1\n",
    "    while i <= j:\n",
    "        while arr[i] < pivot:\n",
    "            i += 1\n",
    "        while arr[j] > pivot:\n",
    "            j -= 1\n",
    "        if i <= j:\n",
    "            arr[i], arr[j] = arr[j], arr[i]\n",
    "            i += 1\n",
    "            j -= 1     \n",
    "    return i\n",
    "\n",
    "def hybrid_quick_sort(arr, left, right):\n",
    "    \n",
    "    if right-left <= 1:\n",
    "        return\n",
    "    \n",
    "    partition_index = partition_mid(arr, left, right)\n",
    "    \n",
    "    # sort left part\n",
    "    if partition_index-left < 10:\n",
    "        insertion_sort(arr, left, partition_index)\n",
    "    else:\n",
    "        hybrid_quick_sort(arr, left, partition_index)\n",
    "    \n",
    "    # sort right part\n",
    "    if right - partition_index < 10:\n",
    "        insertion_sort(arr, partition_index, right)\n",
    "    else:\n",
    "        hybrid_quick_sort(arr, partition_index, right)\n",
    "        \n",
    "def hybrid_sort(arr):\n",
    "    hybrid_quick_sort(arr, 0, len(arr))\n",
    "    return arr\n",
    "\n",
    "\n",
    "# driver code\n",
    "num_arr = [i for i in range(9999, -1, -1)]\n",
    "print(\"Before sorting: {} ... {}\".format(num_arr[:10], num_arr[-10:]))\n",
    "\n",
    "hybrid_sort(num_arr)\n",
    "print(\"After sorting: {} ... {}\".format(num_arr[:10], num_arr[-10:]))"
   ]
  }
 ],
 "metadata": {
  "kernelspec": {
   "display_name": "Python 3",
   "language": "python",
   "name": "python3"
  },
  "language_info": {
   "codemirror_mode": {
    "name": "ipython",
    "version": 3
   },
   "file_extension": ".py",
   "mimetype": "text/x-python",
   "name": "python",
   "nbconvert_exporter": "python",
   "pygments_lexer": "ipython3",
   "version": "3.8.3"
  }
 },
 "nbformat": 4,
 "nbformat_minor": 4
}
