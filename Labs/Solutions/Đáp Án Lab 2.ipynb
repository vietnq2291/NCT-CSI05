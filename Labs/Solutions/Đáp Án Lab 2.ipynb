{
 "cells": [
  {
   "cell_type": "markdown",
   "metadata": {},
   "source": [
    "## <center>Computer Science Intensive Course - MindX</center>\n",
    "![](./assets/logo.png)\n",
    "# <center>ĐÁP ÁN LAB 1 2 3</center>"
   ]
  },
  {
   "cell_type": "markdown",
   "metadata": {},
   "source": [
    "# LAB 2. GIỚI THIỆU VỀ THUẬT TOÁN VÀ CẤU TRÚC DỮ LIỆU"
   ]
  },
  {
   "cell_type": "markdown",
   "metadata": {},
   "source": [
    "### Bài 1. Xâu Đối Xứng"
   ]
  },
  {
   "cell_type": "code",
   "execution_count": null,
   "metadata": {},
   "outputs": [],
   "source": [
    "def is_symmetric(inp):\n",
    "    \n",
    "    n = len(inp)\n",
    "    \n",
    "    # trivial case\n",
    "    if n <= 1:\n",
    "        return True\n",
    "    \n",
    "    # common cases\n",
    "    for i in range(n//2):\n",
    "        if inp[i] != inp[-i-1]:\n",
    "            return False\n",
    "        \n",
    "    return True"
   ]
  },
  {
   "cell_type": "markdown",
   "metadata": {},
   "source": [
    "### Bài 2. Số Siêu Nguyên Tố"
   ]
  },
  {
   "cell_type": "code",
   "execution_count": null,
   "metadata": {},
   "outputs": [],
   "source": [
    "import math\n",
    "\n",
    "# previously implemented in classroom\n",
    "def is_prime(num):\n",
    "    \n",
    "    # trivial case\n",
    "    if num == 1:\n",
    "        return False\n",
    "    \n",
    "    # common cases\n",
    "    result = True\n",
    "    for i in range(2, int(math.sqrt(num))+1):\n",
    "        if num % i == 0:\n",
    "            result = False\n",
    "            break\n",
    "            \n",
    "    return result\n",
    "\n",
    "\n",
    "def is_super_prime(num):\n",
    "    num_str = str(num)\n",
    "    for i in range(len(num_str)):\n",
    "        if not is_prime(int(num_str[:i+1])):  # check smallest numbers first\n",
    "            return False\n",
    "    return True"
   ]
  },
  {
   "cell_type": "markdown",
   "metadata": {},
   "source": [
    "### Bài 3. Kiểm Tra Tam Giác"
   ]
  },
  {
   "cell_type": "code",
   "execution_count": null,
   "metadata": {},
   "outputs": [],
   "source": [
    "# sort 3 numbers ascending\n",
    "def sort_asc(a, b, c):\n",
    "    if a > b:\n",
    "        a, b = b, a\n",
    "    if a > c:\n",
    "        a, c = c, a\n",
    "    if b > c:\n",
    "        b, c = c, b\n",
    "    return a, b, c\n",
    "\n",
    "\n",
    "def get_triangle_type(a, b, c):\n",
    "    \n",
    "    # trivial cases\n",
    "    if a <= 0 or b <= 0 or c <= 0:\n",
    "        return 0\n",
    "    \n",
    "    # sort so that a <= b <= c, for easily checking triangle conditions\n",
    "    a, b, c = sort_asc(a, b, c)\n",
    "    \n",
    "    # not a triangle\n",
    "    if a + b <= c:\n",
    "        return 0\n",
    "        \n",
    "    # calculate a^2 + b^2 and c^2\n",
    "    ab_square = a**2 + b**2\n",
    "    c_square = c**2\n",
    "    \n",
    "    # check 3 types of triangle\n",
    "    if ab_square > c_square:\n",
    "        return 1\n",
    "    elif ab_square == c_square:\n",
    "        return 2\n",
    "    else:\n",
    "        return 3"
   ]
  },
  {
   "cell_type": "markdown",
   "metadata": {},
   "source": [
    "### Bài 4. Đèn Tắt Mở"
   ]
  },
  {
   "cell_type": "code",
   "execution_count": null,
   "metadata": {},
   "outputs": [],
   "source": [
    "# METHOD: Count the number of Trues and Falses, then return the smaller value\n",
    "def count_switches(arr):\n",
    "    true_count = sum(arr)  # or a loop\n",
    "    false_count = len(arr) - true_count\n",
    "    return min(true_count, false_count)"
   ]
  }
 ],
 "metadata": {
  "kernelspec": {
   "display_name": "Python 3.10.4 64-bit",
   "language": "python",
   "name": "python3"
  },
  "language_info": {
   "codemirror_mode": {
    "name": "ipython",
    "version": 3
   },
   "file_extension": ".py",
   "mimetype": "text/x-python",
   "name": "python",
   "nbconvert_exporter": "python",
   "pygments_lexer": "ipython3",
   "version": "3.10.4"
  },
  "vscode": {
   "interpreter": {
    "hash": "916dbcbb3f70747c44a77c7bcd40155683ae19c65e1c03b4aa3499c5328201f1"
   }
  }
 },
 "nbformat": 4,
 "nbformat_minor": 4
}
