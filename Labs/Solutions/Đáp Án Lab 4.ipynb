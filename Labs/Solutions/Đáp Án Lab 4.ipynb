{
 "cells": [
  {
   "cell_type": "markdown",
   "metadata": {},
   "source": [
    "## <center>Computer Science Intensive Course - MindX</center>\n",
    "![](./assets/logo.png)\n",
    "# <center>ĐÁP ÁN LAB 4 5 6</center>"
   ]
  },
  {
   "cell_type": "markdown",
   "metadata": {},
   "source": [
    "# LAB 4. THUẬT TOÁN TÌM KIẾM"
   ]
  },
  {
   "cell_type": "markdown",
   "metadata": {},
   "source": [
    "### Bài 1. Đếm Từ"
   ]
  },
  {
   "cell_type": "code",
   "execution_count": 1,
   "metadata": {},
   "outputs": [
    {
     "data": {
      "text/plain": [
       "4"
      ]
     },
     "execution_count": 1,
     "metadata": {},
     "output_type": "execute_result"
    }
   ],
   "source": [
    "def count_word(inp_str, inp_word):\n",
    "    \n",
    "    inp_length = len(inp_str)\n",
    "    word_length = len(inp_word)\n",
    "    inp_word = inp_word.lower()\n",
    "    inp_str = inp_str.lower()\n",
    "    \n",
    "    count = 0\n",
    "    for i in range(inp_length-word_length+1):  # loop through the string\n",
    "        \n",
    "        # check the word is not a part of another word \n",
    "        left_free = i == 0 or (not inp_str[i-1].isalpha())\n",
    "        right_free = i == inp_length-word_length or (not inp_str[i+word_length].isalpha())\n",
    "        \n",
    "        # check the substring is equal to the word\n",
    "        if left_free and right_free and inp_str[i:i+word_length] == inp_word:\n",
    "            count += 1\n",
    "  \n",
    "    return count\n",
    "\n",
    "\n",
    "count_word(\"The cat is chasing the rat in Netherlands. The dog is also chasing the rat.\", \"the\")"
   ]
  },
  {
   "cell_type": "markdown",
   "metadata": {},
   "source": [
    "### Bài 2. Rút Gọn Phân Số"
   ]
  },
  {
   "cell_type": "code",
   "execution_count": 2,
   "metadata": {},
   "outputs": [
    {
     "data": {
      "text/plain": [
       "(3, 4)"
      ]
     },
     "execution_count": 2,
     "metadata": {},
     "output_type": "execute_result"
    }
   ],
   "source": [
    "def gcd(a, b):\n",
    "    while b != 0:\n",
    "        a, b = b, a % b\n",
    "    return a\n",
    "\n",
    "def reduce_fraction(a, b):\n",
    "    gcd_num = gcd(a, b)\n",
    "    return a//gcd_num, b//gcd_num\n",
    "\n",
    "reduce_fraction(18, 24)"
   ]
  },
  {
   "cell_type": "markdown",
   "metadata": {},
   "source": [
    "### Bài 3. Fibonacci"
   ]
  },
  {
   "cell_type": "code",
   "execution_count": 3,
   "metadata": {},
   "outputs": [
    {
     "data": {
      "text/plain": [
       "55"
      ]
     },
     "execution_count": 3,
     "metadata": {},
     "output_type": "execute_result"
    }
   ],
   "source": [
    "def fibo_recursive(fibo_arr, n):\n",
    "    if n <= 0:\n",
    "        return -1\n",
    "    if fibo_arr[n-1] != 0:\n",
    "        return fibo_arr[n-1]\n",
    "    fibo_arr[n-1] = fibo_recursive(fibo_arr, n-1) + fibo_recursive(fibo_arr, n-2)\n",
    "    return fibo_arr[n-1]\n",
    "\n",
    "\n",
    "def fibonacci(n):\n",
    "    \n",
    "    # array for storing n fibonacci numbers\n",
    "    fibo_arr = [0] * max(n, 2)\n",
    "    fibo_arr[0] = 1\n",
    "    fibo_arr[1] = 1\n",
    "    \n",
    "    return fibo_recursive(fibo_arr, n)\n",
    "\n",
    "\n",
    "fibonacci(10)"
   ]
  },
  {
   "cell_type": "markdown",
   "metadata": {},
   "source": [
    "### Bài 4. Kiểm Tra Dãy Con"
   ]
  },
  {
   "cell_type": "code",
   "execution_count": 4,
   "metadata": {},
   "outputs": [
    {
     "data": {
      "text/plain": [
       "True"
      ]
     },
     "execution_count": 4,
     "metadata": {},
     "output_type": "execute_result"
    }
   ],
   "source": [
    "# use the counting function from Contents/Lesson 3/Exercise 4.5.\n",
    "def count(inp_str):\n",
    "    result = {}\n",
    "    for el in inp_str:\n",
    "        result[el] = result.get(el, 0) + 1\n",
    "    return result\n",
    "        \n",
    "        \n",
    "def check_substring(str1, str2):\n",
    "    \n",
    "    # count characters in each string as dict\n",
    "    count1 = count(str1)\n",
    "    count2 = count(str2)\n",
    "    \n",
    "    for ch, num in count2.items():\n",
    "        if count1.get(ch, 0) < num:  # check if str1 has enough of each characters for str2\n",
    "            return False\n",
    "    return True\n",
    "\n",
    "\n",
    "check_substring(\"aabccdefewherwewopewruiwiiufhhqoihefwlejhohlifqahksabjoqwdihowioihqeohqoheqiohfqeiofhewihew\", \"faweiehoioided\")"
   ]
  }
 ],
 "metadata": {
  "kernelspec": {
   "display_name": "Python 3.10.4 64-bit",
   "language": "python",
   "name": "python3"
  },
  "language_info": {
   "codemirror_mode": {
    "name": "ipython",
    "version": 3
   },
   "file_extension": ".py",
   "mimetype": "text/x-python",
   "name": "python",
   "nbconvert_exporter": "python",
   "pygments_lexer": "ipython3",
   "version": "3.10.4"
  },
  "vscode": {
   "interpreter": {
    "hash": "916dbcbb3f70747c44a77c7bcd40155683ae19c65e1c03b4aa3499c5328201f1"
   }
  }
 },
 "nbformat": 4,
 "nbformat_minor": 4
}
