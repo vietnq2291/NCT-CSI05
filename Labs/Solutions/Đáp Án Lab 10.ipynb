{
 "cells": [
  {
   "cell_type": "markdown",
   "metadata": {},
   "source": [
    "## <center>Computer Science Intensive Course - MindX</center>\n",
    "![](./assets/logo.png)\n",
    "# <center>ĐÁP ÁN LAB 7 9 10</center>"
   ]
  },
  {
   "cell_type": "markdown",
   "metadata": {},
   "source": [
    "# LAB 10. TREE VÀ GRAPH"
   ]
  },
  {
   "cell_type": "markdown",
   "metadata": {},
   "source": [
    "### Bài 1. Quần Đảo"
   ]
  },
  {
   "cell_type": "code",
   "execution_count": 10,
   "metadata": {},
   "outputs": [
    {
     "data": {
      "text/plain": [
       "2"
      ]
     },
     "execution_count": 10,
     "metadata": {},
     "output_type": "execute_result"
    }
   ],
   "source": [
    "def traverse(island, graph, visited):\n",
    "    \n",
    "    # check that the current island is visited\n",
    "    visited.add(island)\n",
    "    \n",
    "    # check every adjacent islands\n",
    "    for vertex in graph[island]:\n",
    "        # if this island is not visited => visit every adjacent island from it\n",
    "        if vertex not in visited:\n",
    "            traverse(vertex, graph, visited)\n",
    "\n",
    "\n",
    "def count_island_groups(graph):\n",
    "    \n",
    "    # init\n",
    "    count = 0\n",
    "    visited = set()\n",
    "    \n",
    "    # check every island\n",
    "    for island in graph:\n",
    "        if island not in visited:  # if not visited => found a new island group\n",
    "            traverse(island, graph, visited)  # visit every island in the group\n",
    "            count += 1\n",
    "    \n",
    "    return count\n",
    "\n",
    "\n",
    "# driver code\n",
    "count_island_groups({0: [4], 1: [2], 2: [1], 3: [4], 4: [0, 3]})"
   ]
  },
  {
   "cell_type": "markdown",
   "metadata": {},
   "source": [
    "### Bài 2. Tính Biểu Thức"
   ]
  },
  {
   "cell_type": "code",
   "execution_count": 12,
   "metadata": {},
   "outputs": [],
   "source": [
    "# evaluate result of a single operation\n",
    "def eval_operation(value1, value2, operator):\n",
    "    if operator == '+':\n",
    "        return value1 + value2\n",
    "    if operator == '-':\n",
    "        return value1 - value2\n",
    "    if operator == '*':\n",
    "        return value1 * value2\n",
    "    if operator == '/':\n",
    "        return value1 / value2\n",
    "    if operator == '^':\n",
    "        return value1 ** value2\n",
    "\n",
    "def evaluate(node):\n",
    "    if node.data in ['+', '-', '*', '/', '^']:  # if current node is an operator...\n",
    "        left = evaluate(node.left)              # ... evaluate left and right sub-tree\n",
    "        right = evaluate(node.right)            # ... then perform calculation\n",
    "        return eval_operation(left, right, node.data)\n",
    "    else:\n",
    "        return node.data  # if not operator => return value\n",
    "\n",
    "def evaluate_expr(tree_root):\n",
    "    return evaluate(tree_root)"
   ]
  },
  {
   "cell_type": "markdown",
   "metadata": {},
   "source": [
    "### Bài 3. Trang Trại"
   ]
  },
  {
   "cell_type": "code",
   "execution_count": 13,
   "metadata": {},
   "outputs": [],
   "source": [
    "# traverse the area of connected cells to check for farm and count area\n",
    "def traverse_and_measure(row, col, m, n, land_map, visited, is_farm, area):\n",
    "\n",
    "    # check current cell as visited\n",
    "    visited[row][col] = True\n",
    "    \n",
    "    # if reached land's border: not farm, stop traversing from this cell\n",
    "    if row == 0 or col == 0 or row == m-1 or col == n-1:\n",
    "        is_farm[0] = False\n",
    "        return\n",
    "\n",
    "    # may still be farm: update area\n",
    "    if is_farm[0]:\n",
    "        area[0] += 1\n",
    "    \n",
    "    # traverse neighbor cells: top, right, bottom, left\n",
    "    for i, j in [(row-1, col), (row, col+1), (row+1, col), (row, col-1)]:\n",
    "        if land_map[i][j] == 0 and not visited[i][j]:\n",
    "            traverse_and_measure(i, j, m, n, land_map, visited, is_farm, area)\n",
    "    \n",
    "\n",
    "def find_farm_area(land_map):\n",
    "    \n",
    "    # init lengths\n",
    "    m = len(land_map)\n",
    "    n = len(land_map[0])\n",
    "    \n",
    "    # init visited array\n",
    "    visited = [[False]*n for _ in range(m)]\n",
    "    \n",
    "    # check every non-borders cells of the land, as border cells cannot be in the farm\n",
    "    for row in range(1, m-1):\n",
    "        for col in range(1, n-1):\n",
    "            if land_map[row][col] == 0 and not visited[row][col]:  # if cell is not fence and not visited\n",
    "                # traverse the area of connected cells to check for farm and count area\n",
    "                is_farm = [True]  # use list so that traverse_and_measure can change the variable value\n",
    "                area = [0]\n",
    "                traverse_and_measure(row, col, m, n, land_map, visited, is_farm, area)\n",
    "                if is_farm[0]:  # if found farm, return area\n",
    "                    return area[0]"
   ]
  },
  {
   "cell_type": "code",
   "execution_count": null,
   "metadata": {},
   "outputs": [],
   "source": []
  }
 ],
 "metadata": {
  "kernelspec": {
   "display_name": "Python 3.10.4 64-bit",
   "language": "python",
   "name": "python3"
  },
  "language_info": {
   "codemirror_mode": {
    "name": "ipython",
    "version": 3
   },
   "file_extension": ".py",
   "mimetype": "text/x-python",
   "name": "python",
   "nbconvert_exporter": "python",
   "pygments_lexer": "ipython3",
   "version": "3.10.4"
  },
  "vscode": {
   "interpreter": {
    "hash": "916dbcbb3f70747c44a77c7bcd40155683ae19c65e1c03b4aa3499c5328201f1"
   }
  }
 },
 "nbformat": 4,
 "nbformat_minor": 4
}
