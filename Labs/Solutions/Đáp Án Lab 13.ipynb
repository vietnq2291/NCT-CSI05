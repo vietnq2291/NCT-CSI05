{
 "cells": [
  {
   "cell_type": "markdown",
   "metadata": {},
   "source": [
    "## <center>Computer Science Intensive Course - MindX</center>\n",
    "![](./assets/logo.png)\n",
    "# <center>ĐÁP ÁN LAB 13</center>"
   ]
  },
  {
   "cell_type": "markdown",
   "metadata": {},
   "source": [
    "# LAB 13. TỔNG KẾT CUỐI KHÓA"
   ]
  },
  {
   "cell_type": "markdown",
   "metadata": {},
   "source": [
    "### Bài 1. Phân Số Ai Cập"
   ]
  },
  {
   "cell_type": "code",
   "execution_count": 12,
   "metadata": {},
   "outputs": [
    {
     "data": {
      "text/plain": [
       "[2, 3, 12, 156]"
      ]
     },
     "execution_count": 12,
     "metadata": {},
     "output_type": "execute_result"
    }
   ],
   "source": [
    "# parameters: numerator & denominator\n",
    "def get_egyptian_fractions(numer, denor):\n",
    " \n",
    "    result = []\n",
    "    \n",
    "    # while current fraction is not 0\n",
    "    while numer != 0:\n",
    "        \n",
    "        # find next denomiator\n",
    "        next_denor = denor // numer + (denor % numer != 0)  # equivalennt to math.ceil(denor/numer)\n",
    "        result.append(next_denor)\n",
    "        \n",
    "        # subtract the found egyptian fraction from current fraction\n",
    "        numer = numer * next_denor - denor\n",
    "        denor = denor * next_denor\n",
    " \n",
    "    return result\n",
    "\n",
    "\n",
    "# driver code\n",
    "get_egyptian_fractions(12, 13)"
   ]
  },
  {
   "cell_type": "markdown",
   "metadata": {},
   "source": [
    "*Giải thích thuật toán*: Ý tưởng chính là dùng tham lam: Ở mỗi bước, tìm phân số *p* lớn nhất có tử số bằng 1 và mẫu số nguyên sao cho *p <= phân số hiện tại*. Thêm phân số tìm được vào kết quả, trừ phân số vừa tìm được khỏi phân số ban đầu.  \n",
    "\n",
    "**Ví dụ** với 6/14:\n",
    "- Ta tìm mẫu số của phân số *p* bằng cách chia mẫu cho tử và làm tròn lên: <code>ceil(14/6) = 3</code>. Kết quả: [3]\n",
    "- Trừ ra phân số vừa tìm được: <code>6/14 - 1/3 = (6\\*3-14)/(14*3) = 4/42</code> (không cần rút gọn)\n",
    "- Tiếp tục tìm mẫu số của phân số *p* tiếp theo: <code>ceil(42/4) = 11</code>. Kết quả: [3, 11]\n",
    "- Tương tự..."
   ]
  },
  {
   "cell_type": "markdown",
   "metadata": {},
   "source": [
    "### Bài 2. Chuỗi Đối Xứng"
   ]
  },
  {
   "cell_type": "code",
   "execution_count": 13,
   "metadata": {},
   "outputs": [
    {
     "data": {
      "text/plain": [
       "0"
      ]
     },
     "execution_count": 13,
     "metadata": {},
     "output_type": "execute_result"
    }
   ],
   "source": [
    "def count_trims(inp_str):\n",
    "    \n",
    "    # length of the palindrome in the middle\n",
    "    palindrome_length = 0\n",
    "    \n",
    "    # calculate the middle indices to start traversing from\n",
    "    n = len(inp_str)\n",
    "    left = (n // 2) - 1\n",
    "    right = left + 1\n",
    "    if n % 2 != 0:\n",
    "        right += 1\n",
    "        palindrome_length += 1\n",
    "        \n",
    "    # traverse left and right from the middle until not palindromic\n",
    "    while left >= 0 and inp_str[left] == inp_str[right]:\n",
    "        palindrome_length += 2\n",
    "        left -= 1\n",
    "        right += 1\n",
    "    \n",
    "    # subtract the middle palindrome length from the string to get result\n",
    "    return (n - palindrome_length) // 2\n",
    "        \n",
    "        \n",
    "count_trims('iuhahui')"
   ]
  },
  {
   "cell_type": "markdown",
   "metadata": {},
   "source": [
    "*Giải thích thuật toán*: Bài tập này thực chất là đếm độ dài của dãy con đối xứng (palindrome) nằm chính giữa dãy đã cho, sau đó lấy độ dài của dãy đã cho trừ đi độ dài tìm được."
   ]
  },
  {
   "cell_type": "markdown",
   "metadata": {},
   "source": [
    "### Bài 3. Chuyển Đổi Chuỗi"
   ]
  },
  {
   "cell_type": "code",
   "execution_count": 14,
   "metadata": {},
   "outputs": [
    {
     "data": {
      "text/plain": [
       "2"
      ]
     },
     "execution_count": 14,
     "metadata": {},
     "output_type": "execute_result"
    }
   ],
   "source": [
    "# trick: use a flag variable instead of actually changing the prefix of A\n",
    "def count_operations(str_a, str_b):\n",
    "    \n",
    "    # init `count` and `is_invert` flag\n",
    "    count = 0\n",
    "    is_invert = False\n",
    "\n",
    "    # traverse backward 2 strings\n",
    "    for i in range(len(str_a)-1, -1, -1):\n",
    "        \n",
    "        # if element in A != element in B OR\n",
    "        #    element in A == element in B while the prefix of A is inverted\n",
    "        # => do the transform operation\n",
    "        if (str_a[i] != str_b[i] and not is_invert) or \\\n",
    "           (str_a[i] == str_b[i] and is_invert):\n",
    "                count += 1\n",
    "                is_invert = not is_invert\n",
    "\n",
    "    return count\n",
    "\n",
    "\n",
    "count_operations('1000', '1011')"
   ]
  },
  {
   "cell_type": "markdown",
   "metadata": {},
   "source": [
    "### Bài 4. Chuột và Mê Cung"
   ]
  },
  {
   "cell_type": "code",
   "execution_count": 15,
   "metadata": {},
   "outputs": [],
   "source": [
    "maze = [\n",
    "    ['X','X','X','X','X','X','X','X','X','X'],\n",
    "    ['X',' ',' ',' ',' ',' ','X',' ',' ','X'],\n",
    "    ['X',' ','X',' ',' ','M','X',' ','M','X'],\n",
    "    ['X',' ','X','X','X',' ','X',' ',' ','X'],\n",
    "    ['X','M',' ',' ','X',' ','X',' ',' ','X'],\n",
    "    ['X',' ',' ',' ','X',' ',' ',' ','X','X'],\n",
    "    ['X',' ','X','X','X',' ',' ',' ',' ','X'],\n",
    "    ['X',' ','X',' ',' ',' ','X',' ',' ','X'],\n",
    "    ['X',' ',' ','M',' ',' ','X',' ','E','X'],\n",
    "    ['X','X','X','X','X','X','X','X','X','X']\n",
    "]"
   ]
  },
  {
   "cell_type": "code",
   "execution_count": 16,
   "metadata": {},
   "outputs": [
    {
     "name": "stdout",
     "output_type": "stream",
     "text": [
      "0 0 0 0 0 0 0 0 1 3 3 3 3 3 3 4 4 4 4 4 "
     ]
    }
   ],
   "source": [
    "# trick: traverse 1 time with BFS from the exit to get the distance from each mouse\n",
    "from collections import deque\n",
    "\n",
    "def count_escaping_mouses(maze, time):\n",
    "    \n",
    "    # init height & width\n",
    "    height = len(maze)\n",
    "    width = len(maze[0])\n",
    "    \n",
    "    # init vertex queue & visited array\n",
    "    queue = deque()\n",
    "    visited = [[False]*width for _ in range(height)]\n",
    "\n",
    "    # add starting vertex: find the exit\n",
    "    for row in range(1, height-1):\n",
    "        for col in range(1, width-1):\n",
    "            if maze[row][col] == 'E':\n",
    "                queue.append((row, col, 0))  # last value in tuple is distance from exit\n",
    "                visited[row][col] = True\n",
    "                break\n",
    "\n",
    "    # init mouses count\n",
    "    count = 0\n",
    "    \n",
    "    # while there remains vertices to visit...\n",
    "    while len(queue) > 0:\n",
    "\n",
    "        # visit next vertex in queue\n",
    "        row, col, distance = queue.popleft()\n",
    "        if maze[row][col] == 'M':  # count found mouse\n",
    "            count += 1\n",
    "\n",
    "        # if not reached max distance => visit adjacent vertices\n",
    "        if distance < time:\n",
    "            for i, j in [(row-1, col), (row, col+1), (row+1, col), (row, col-1)]:\n",
    "                if maze[i][j] != 'X' and not visited[i][j]:\n",
    "                    queue.append((i, j, distance+1))\n",
    "                    visited[i][j] = True\n",
    "                    \n",
    "    return count\n",
    "\n",
    "\n",
    "# driver code\n",
    "for i in range(20):\n",
    "    print(count_escaping_mouses(maze, i), end=' ')"
   ]
  },
  {
   "cell_type": "code",
   "execution_count": null,
   "metadata": {},
   "outputs": [],
   "source": []
  }
 ],
 "metadata": {
  "kernelspec": {
   "display_name": "Python 3.9.12 ('base')",
   "language": "python",
   "name": "python3"
  },
  "language_info": {
   "codemirror_mode": {
    "name": "ipython",
    "version": 3
   },
   "file_extension": ".py",
   "mimetype": "text/x-python",
   "name": "python",
   "nbconvert_exporter": "python",
   "pygments_lexer": "ipython3",
   "version": "3.9.12"
  },
  "vscode": {
   "interpreter": {
    "hash": "245cc435fe8701059561108fec3fd7c748240250fa2e2b5e714b4f6827c3f344"
   }
  }
 },
 "nbformat": 4,
 "nbformat_minor": 4
}
