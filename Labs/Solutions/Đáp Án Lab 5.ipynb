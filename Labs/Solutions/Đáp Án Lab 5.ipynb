{
 "cells": [
  {
   "cell_type": "markdown",
   "metadata": {},
   "source": [
    "## <center>Computer Science Intensive Course - MindX</center>\n",
    "![](./assets/logo.png)\n",
    "# <center>ĐÁP ÁN LAB 4 5 6</center>"
   ]
  },
  {
   "cell_type": "markdown",
   "metadata": {},
   "source": [
    "# LAB 5. THUẬT TOÁN SẮP XẾP (1)"
   ]
  },
  {
   "cell_type": "markdown",
   "metadata": {},
   "source": [
    "### Bài 1. Dãy Số Ngược"
   ]
  },
  {
   "cell_type": "code",
   "execution_count": 5,
   "metadata": {},
   "outputs": [
    {
     "data": {
      "text/plain": [
       "[-99999999.0, -1000.0, -12.2, -12.2, 0.0, 3.14159, 20.0, 50.2, 90.12]"
      ]
     },
     "execution_count": 5,
     "metadata": {},
     "output_type": "execute_result"
    }
   ],
   "source": [
    "def sort_descending_list(inp_list):  \n",
    "    return [inp_list[i] for i in range(len(inp_list)-1, -1, -1)]\n",
    "\n",
    "\n",
    "sort_descending_list([90.12, 50.2, 20.0, 3.14159, 0.0, -12.2, -12.2, -1000.0, -99999999.0])"
   ]
  },
  {
   "cell_type": "markdown",
   "metadata": {},
   "source": [
    "### Bài 2. Số Phức"
   ]
  },
  {
   "cell_type": "code",
   "execution_count": 6,
   "metadata": {},
   "outputs": [
    {
     "data": {
      "text/plain": [
       "[(2.57, -2.3),\n",
       " (6.67, 12.2),\n",
       " (9.09, 12.0),\n",
       " (8.97, -13.2),\n",
       " (34.5, 20.0),\n",
       " (32.4, -30.0),\n",
       " (-111.0, 20.2)]"
      ]
     },
     "execution_count": 6,
     "metadata": {},
     "output_type": "execute_result"
    }
   ],
   "source": [
    "# METHOD 1: Calculate modulo every comparison\n",
    "\n",
    "import math\n",
    "\n",
    "def modulo(a, b):\n",
    "    return math.sqrt(a**2 + b**2)\n",
    "\n",
    "def is_bigger_complex(num1, num2):\n",
    "    return modulo(num1[0], num1[1]) > modulo(num2[0], num2[1])\n",
    "\n",
    "def bubble_sort(arr):\n",
    "    for i in range(len(arr)-1, 0, -1):\n",
    "        for j in range(i):\n",
    "            if is_bigger_complex(arr[j], arr[j+1]):\n",
    "                arr[j], arr[j+1] = arr[j+1], arr[j]\n",
    "                \n",
    "def sort_complex_list(arr):\n",
    "    bubble_sort(arr)\n",
    "    return arr\n",
    "\n",
    "\n",
    "complex_list = [(32.4, -30.0), (2.57, -2.3), (-111.0, 20.2), (34.5, 20.0), (8.97, -13.2), (6.67, 12.2), (9.09, 12.0)]\n",
    "sort_complex_list(complex_list)"
   ]
  },
  {
   "cell_type": "code",
   "execution_count": 7,
   "metadata": {},
   "outputs": [
    {
     "data": {
      "text/plain": [
       "[(2.57, -2.3),\n",
       " (6.67, 12.2),\n",
       " (9.09, 12.0),\n",
       " (8.97, -13.2),\n",
       " (34.5, 20.0),\n",
       " (32.4, -30.0),\n",
       " (-111.0, 20.2)]"
      ]
     },
     "execution_count": 7,
     "metadata": {},
     "output_type": "execute_result"
    }
   ],
   "source": [
    "# METHOD 2: Calculate a modulo array, then sort 2 arrays simultaneously\n",
    "# => does not have to calculate modulo at every comparison\n",
    "# => faster in real time, but not change time and space complexities\n",
    "\n",
    "import math\n",
    "\n",
    "def modulo(a, b):\n",
    "    return math.sqrt(a**2 + b**2)\n",
    "\n",
    "def bubble_sort_parallel(arr, compare_arr):\n",
    "    for i in range(len(arr)-1, 0, -1):\n",
    "        for j in range(i):\n",
    "            if compare_arr[j] > compare_arr[j+1]:\n",
    "                arr[j], arr[j+1] = arr[j+1], arr[j]\n",
    "                compare_arr[j], compare_arr[j+1] = compare_arr[j+1], compare_arr[j]\n",
    "                \n",
    "def sort_complex_list(arr):\n",
    "    modulo_arr = [modulo(num[0], num[1]) for num in arr]\n",
    "    bubble_sort_parallel(arr, modulo_arr)\n",
    "    return arr\n",
    "\n",
    "\n",
    "complex_list = [(32.4, -30.0), (2.57, -2.3), (-111.0, 20.2), (34.5, 20.0), (8.97, -13.2), (6.67, 12.2), (9.09, 12.0)]\n",
    "sort_complex_list(complex_list)"
   ]
  },
  {
   "cell_type": "markdown",
   "metadata": {},
   "source": [
    "### Bài 3. Sắp Xếp Hai Tầng"
   ]
  },
  {
   "cell_type": "code",
   "execution_count": 8,
   "metadata": {},
   "outputs": [
    {
     "data": {
      "text/plain": [
       "[{'id': 12, 'math': 9.5, 'literature': 4.3},\n",
       " {'id': 984, 'math': 9.0, 'literature': 5.4},\n",
       " {'id': 324, 'math': 9.0, 'literature': 5.4}]"
      ]
     },
     "execution_count": 8,
     "metadata": {},
     "output_type": "execute_result"
    }
   ],
   "source": [
    "def is_student_after(student1, student2):\n",
    "    if student1['math'] != student2['math']:\n",
    "        return student1['math'] < student2['math']\n",
    "    return student1['literature'] < student2['literature']\n",
    "\n",
    "def bubble_sort(arr):\n",
    "    for i in range(len(arr)-1, 0, -1):\n",
    "        for j in range(i):\n",
    "            if is_student_after(arr[j], arr[j+1]):\n",
    "                arr[j], arr[j+1] = arr[j+1], arr[j]\n",
    "                \n",
    "def sort_student_grades(grade_list):\n",
    "    bubble_sort(grade_list)\n",
    "    return grade_list\n",
    "\n",
    "\n",
    "sort_student_grades([{'id': 984, 'math': 9.0, 'literature': 5.4}, {'id': 12, 'math': 9.5, 'literature': 4.3}, {'id': 324, 'math': 9.0, 'literature': 5.4}])"
   ]
  },
  {
   "cell_type": "markdown",
   "metadata": {},
   "source": [
    "### Bài 4. Nhập Dãy"
   ]
  },
  {
   "cell_type": "code",
   "execution_count": 9,
   "metadata": {},
   "outputs": [
    {
     "data": {
      "text/plain": [
       "[-99999999.0, -1000.0, -12.2, -12.2, 0.0, 3.14159, 20.0, 50.2, 90.12]"
      ]
     },
     "execution_count": 9,
     "metadata": {},
     "output_type": "execute_result"
    }
   ],
   "source": [
    "def merge_lists(arr1, arr2):\n",
    "\n",
    "    n1 = len(arr1)\n",
    "    n2 = len(arr2)\n",
    "    arr3 = [None] * (n1 + n2)\n",
    "    i = 0\n",
    "    j = 0\n",
    "    k = 0\n",
    " \n",
    "    # traverse both array until one is empty\n",
    "    while i < n1 and j < n2:\n",
    "        if arr1[i] < arr2[j]:\n",
    "            arr3[k] = arr1[i]\n",
    "            i += 1\n",
    "        else:\n",
    "            arr3[k] = arr2[j]\n",
    "            j += 1\n",
    "        k +=  1\n",
    "     \n",
    "    # get remaining elements\n",
    "    arr3[k:k+n1-i] = arr1[i:n1]\n",
    "    k += n1-i\n",
    "    arr3[k:k+n2-j] = arr2[j:n2]\n",
    " \n",
    "    return arr3\n",
    "\n",
    "\n",
    "arr1 = [-99999999.0, -12.2, 0.0, 20.0, 50.2, 90.12]\n",
    "arr2 = [-1000.0, -12.2, 3.14159]\n",
    "merge_lists(arr1, arr2)"
   ]
  }
 ],
 "metadata": {
  "kernelspec": {
   "display_name": "Python 3.10.4 64-bit",
   "language": "python",
   "name": "python3"
  },
  "language_info": {
   "codemirror_mode": {
    "name": "ipython",
    "version": 3
   },
   "file_extension": ".py",
   "mimetype": "text/x-python",
   "name": "python",
   "nbconvert_exporter": "python",
   "pygments_lexer": "ipython3",
   "version": "3.10.4"
  },
  "vscode": {
   "interpreter": {
    "hash": "916dbcbb3f70747c44a77c7bcd40155683ae19c65e1c03b4aa3499c5328201f1"
   }
  }
 },
 "nbformat": 4,
 "nbformat_minor": 4
}
