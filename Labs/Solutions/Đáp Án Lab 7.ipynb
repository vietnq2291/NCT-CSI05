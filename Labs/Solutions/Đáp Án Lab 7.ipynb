{
 "cells": [
  {
   "cell_type": "markdown",
   "metadata": {},
   "source": [
    "## <center>Computer Science Intensive Course - MindX</center>\n",
    "![](./assets/logo.png)\n",
    "# <center>ĐÁP ÁN LAB 7 9 10</center>"
   ]
  },
  {
   "cell_type": "markdown",
   "metadata": {},
   "source": [
    "# LAB 7. THUẬT TOÁN SẮP XẾP (3)"
   ]
  },
  {
   "cell_type": "markdown",
   "metadata": {},
   "source": [
    "### Bài 1. Rating"
   ]
  },
  {
   "cell_type": "code",
   "execution_count": 1,
   "metadata": {},
   "outputs": [
    {
     "data": {
      "text/plain": [
       "[('The Alley', 5.0),\n",
       " ('Gongcha', 4.5),\n",
       " ('Koi Thé', 4.5),\n",
       " ('Phuc Long', 4.0),\n",
       " ('Tocotoco', 4.0),\n",
       " ('Share Tea', 3.5),\n",
       " ('Soya', 3.5)]"
      ]
     },
     "execution_count": 1,
     "metadata": {},
     "output_type": "execute_result"
    }
   ],
   "source": [
    "def counting_sort_rating(arr):\n",
    "    \n",
    "    # trivial cases\n",
    "    n = len(arr)\n",
    "    if n <= 1:\n",
    "        return arr\n",
    "    \n",
    "    # get the range of counting indices => multiple by 2\n",
    "    val_range = 11\n",
    " \n",
    "    # count occurences of each value\n",
    "    count = [0] * val_range\n",
    "    for i, rating in enumerate(arr):\n",
    "        count[int(rating[1]*2)] += 1\n",
    "        \n",
    "    # build `next_indices` by overwritting `count`\n",
    "    next_indices = count\n",
    "    total_count = 0\n",
    "    for i in range(val_range-1, -1, -1):  # reverse here for descending sort\n",
    "        tmp = next_indices[i]\n",
    "        next_indices[i] = total_count\n",
    "        total_count += tmp\n",
    "        \n",
    "    # traverse `arr` to place the values into `sorted_arr`\n",
    "    sorted_arr = [None] * n\n",
    "    for rating in arr:\n",
    "        count_index = int(rating[1]*2)\n",
    "        sorted_arr[next_indices[count_index]] = rating\n",
    "        next_indices[count_index] += 1\n",
    "        \n",
    "    return sorted_arr\n",
    "\n",
    "\n",
    "# driver code\n",
    "arr = [('Phuc Long', 4.0), ('Tocotoco', 4.0), ('Share Tea', 3.5), ('Gongcha', 4.5), ('Soya', 3.5), ('Koi Thé', 4.5), ('The Alley', 5.0)]\n",
    "counting_sort_rating(arr)"
   ]
  },
  {
   "cell_type": "markdown",
   "metadata": {},
   "source": [
    "### Bài 2. Phần Tử Lớn Thứ Ba"
   ]
  },
  {
   "cell_type": "code",
   "execution_count": 2,
   "metadata": {},
   "outputs": [
    {
     "data": {
      "text/plain": [
       "2"
      ]
     },
     "execution_count": 2,
     "metadata": {},
     "output_type": "execute_result"
    }
   ],
   "source": [
    "def find_third_largest(arr):\n",
    "\n",
    "    # trivial cases\n",
    "    if len(arr) < 3:\n",
    "        return None\n",
    "    \n",
    "    # find largest element\n",
    "    previous_max = max(arr)\n",
    " \n",
    "    # find second and third-largest\n",
    "    for _ in range(2):\n",
    "        \n",
    "        current_max = None\n",
    "        for el in arr:\n",
    "            if el < previous_max and (current_max == None or el > current_max):\n",
    "                current_max = el   \n",
    "        previous_max = current_max\n",
    "        \n",
    "        if current_max == None:\n",
    "            return None\n",
    "        \n",
    "    return current_max\n",
    "\n",
    "\n",
    "def count_third_largest(arr):\n",
    "    \n",
    "    third = find_third_largest(arr)\n",
    "    if third == None:\n",
    "        return 0\n",
    "    \n",
    "    count = 0\n",
    "    for el in arr:\n",
    "        if el == third:\n",
    "            count += 1\n",
    "            \n",
    "    return count\n",
    "\n",
    "\n",
    "# driver_code()\n",
    "arr = [3, 2, 1, 5, 4, 7, 6, 6, 5]\n",
    "count_third_largest(arr)"
   ]
  },
  {
   "cell_type": "markdown",
   "metadata": {},
   "source": [
    "### Bài 3. Hàm sorted(): So Sánh Trên Key"
   ]
  },
  {
   "cell_type": "code",
   "execution_count": 4,
   "metadata": {},
   "outputs": [],
   "source": [
    "def sort_student_grades_math(grade_list):\n",
    "    return sorted(grade_list, reverse=True, key=lambda grade: grade['math'])"
   ]
  },
  {
   "cell_type": "markdown",
   "metadata": {},
   "source": [
    "### Bài 4. Hàm sorted(): So Sánh Trên Nhiều Key"
   ]
  },
  {
   "cell_type": "code",
   "execution_count": 5,
   "metadata": {},
   "outputs": [],
   "source": [
    "def sort_student_grades_all(grade_list):\n",
    "    return sorted(grade_list, reverse=True, key=lambda grade: (grade['math'], grade['literature']))"
   ]
  }
 ],
 "metadata": {
  "kernelspec": {
   "display_name": "Python 3.10.4 64-bit",
   "language": "python",
   "name": "python3"
  },
  "language_info": {
   "codemirror_mode": {
    "name": "ipython",
    "version": 3
   },
   "file_extension": ".py",
   "mimetype": "text/x-python",
   "name": "python",
   "nbconvert_exporter": "python",
   "pygments_lexer": "ipython3",
   "version": "3.10.4"
  },
  "vscode": {
   "interpreter": {
    "hash": "916dbcbb3f70747c44a77c7bcd40155683ae19c65e1c03b4aa3499c5328201f1"
   }
  }
 },
 "nbformat": 4,
 "nbformat_minor": 4
}
