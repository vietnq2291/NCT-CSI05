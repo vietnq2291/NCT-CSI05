{
 "cells": [
  {
   "cell_type": "markdown",
   "metadata": {},
   "source": [
    "## <center>Computer Science Intensive Course - MindX</center>\n",
    "![](./assets/logo.png)\n",
    "# <center>ĐÁP ÁN LAB 1 2 3</center>"
   ]
  },
  {
   "cell_type": "markdown",
   "metadata": {},
   "source": [
    "# LAB 1. ÔN TẬP PYTHON"
   ]
  },
  {
   "cell_type": "markdown",
   "metadata": {},
   "source": [
    "### Bài 1. Ví Dụ"
   ]
  },
  {
   "cell_type": "code",
   "execution_count": 1,
   "metadata": {},
   "outputs": [],
   "source": [
    "def uppercase(input_str):\n",
    "    return input_str.upper()"
   ]
  },
  {
   "cell_type": "markdown",
   "metadata": {},
   "source": [
    "### Bài 2. Đường Chéo Hình Vuông"
   ]
  },
  {
   "cell_type": "code",
   "execution_count": 12,
   "metadata": {},
   "outputs": [],
   "source": [
    "import math\n",
    "\n",
    "def cal_diagonal(edge_length):\n",
    "    return math.sqrt(2) * edge_length"
   ]
  },
  {
   "cell_type": "markdown",
   "metadata": {},
   "source": [
    "### Bài 3. Tổng Chữ Số"
   ]
  },
  {
   "cell_type": "code",
   "execution_count": 2,
   "metadata": {},
   "outputs": [],
   "source": [
    "def sum_digits(num):\n",
    "    res = 0\n",
    "    for i in range(4):\n",
    "        res += num % 10\n",
    "        num //= 10\n",
    "    return res"
   ]
  },
  {
   "cell_type": "markdown",
   "metadata": {},
   "source": [
    "### Bài 4. Thứ Trong Tuần"
   ]
  },
  {
   "cell_type": "code",
   "execution_count": 5,
   "metadata": {},
   "outputs": [],
   "source": [
    "# METHOD 1: Use 7 If statements\n",
    "# METHOD 2: Use a dictionary / array\n",
    "def day_in_week(day_int):\n",
    "    DAYS = {2: \"Monday\", 3: \"Tuesday\", 4: \"Wednesday\", 5: \"Thursday\", 6: \"Friday\", 7: \"Saturday\", 8: \"Sunday\"}\n",
    "    return DAYS[day_int]"
   ]
  },
  {
   "cell_type": "markdown",
   "metadata": {},
   "source": [
    "### Bài 5. Tìm Dãy Con"
   ]
  },
  {
   "cell_type": "code",
   "execution_count": 29,
   "metadata": {},
   "outputs": [],
   "source": [
    "# METHOD 1: Two For loops\n",
    "def find_substring(string, substring):\n",
    "    \n",
    "    n = len(string)\n",
    "    sub_n = len(substring)\n",
    "    \n",
    "    for i in range(n-sub_n+1):\n",
    "        count = 0\n",
    "        for j in range(sub_n):\n",
    "            if string[i+j] == substring[j]:\n",
    "                count += 1\n",
    "        if count == sub_n:\n",
    "            return i\n",
    "        \n",
    "    return -1"
   ]
  },
  {
   "cell_type": "code",
   "execution_count": 22,
   "metadata": {},
   "outputs": [],
   "source": [
    "# METHOD 2: One loop and list slicing (faster)\n",
    "def find_substring(string, substring):\n",
    "    \n",
    "    n = len(string)\n",
    "    sub_n = len(substring)\n",
    "    \n",
    "    for i in range(n-sub_n+1):\n",
    "        if substring == string[i:len(substring)+i]:\n",
    "            return i\n",
    "        \n",
    "    return -1"
   ]
  }
 ],
 "metadata": {
  "kernelspec": {
   "display_name": "Python 3.10.4 64-bit",
   "language": "python",
   "name": "python3"
  },
  "language_info": {
   "codemirror_mode": {
    "name": "ipython",
    "version": 3
   },
   "file_extension": ".py",
   "mimetype": "text/x-python",
   "name": "python",
   "nbconvert_exporter": "python",
   "pygments_lexer": "ipython3",
   "version": "3.10.4"
  },
  "vscode": {
   "interpreter": {
    "hash": "916dbcbb3f70747c44a77c7bcd40155683ae19c65e1c03b4aa3499c5328201f1"
   }
  }
 },
 "nbformat": 4,
 "nbformat_minor": 4
}
