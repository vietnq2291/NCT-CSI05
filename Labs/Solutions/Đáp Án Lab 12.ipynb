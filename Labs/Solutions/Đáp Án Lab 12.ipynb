{
 "cells": [
  {
   "cell_type": "markdown",
   "metadata": {},
   "source": [
    "## <center>Computer Science Intensive Course - MindX</center>\n",
    "![](./assets/logo.png)\n",
    "# <center>ĐÁP ÁN LAB 11 12 13</center>"
   ]
  },
  {
   "cell_type": "markdown",
   "metadata": {},
   "source": [
    "# LAB 12. THUẬT TOÁN TÌM ĐƯỜNG (2)"
   ]
  },
  {
   "cell_type": "markdown",
   "metadata": {},
   "source": [
    "### Bài 1. Kích Thước Tầng"
   ]
  },
  {
   "cell_type": "code",
   "execution_count": 6,
   "metadata": {},
   "outputs": [],
   "source": [
    "# SOLUTION 1 - BFS\n",
    "from collections import deque\n",
    "\n",
    "def find_level_size(root, level):\n",
    "    \n",
    "    # special cases\n",
    "    if level < 0 or level > 998:\n",
    "        return 0\n",
    "    if level == 0:\n",
    "        return 1\n",
    "    \n",
    "    # init queue for BFS\n",
    "    queue = deque()\n",
    "    queue.append(root)\n",
    "    \n",
    "    # loop through each level until reached desired level\n",
    "    for i in range(level):\n",
    "        \n",
    "        # get size of current level\n",
    "        level_size = len(queue)\n",
    "        if level_size == 0:  # reached end of tree\n",
    "            return 0\n",
    "        \n",
    "        # traverse current level to push next level to queue\n",
    "        for j in range(level_size):\n",
    "            node = queue.popleft()\n",
    "            if node.left != None:\n",
    "                queue.append(node.left)\n",
    "            if node.right != None:\n",
    "                queue.append(node.right)\n",
    "                \n",
    "    return len(queue)"
   ]
  },
  {
   "cell_type": "code",
   "execution_count": null,
   "metadata": {},
   "outputs": [],
   "source": [
    "# SOLUTION 2 - DFS\n",
    "def dfs(node, current_level, level, count):\n",
    "    if current_level == level:\n",
    "        count[0] += 1\n",
    "    else:\n",
    "        if node.left != None:\n",
    "            dfs(node.left, current_level+1, level, count)\n",
    "        if node.right != None:\n",
    "            dfs(node.right, current_level+1, level, count)\n",
    "\n",
    "\n",
    "def find_level_size(root, level):\n",
    "    \n",
    "    # special cases\n",
    "    if level < 0 or level > 998:\n",
    "        return 0\n",
    "    if level == 0:\n",
    "        return 1\n",
    "    \n",
    "    # init queue for BFS\n",
    "    count = [0]\n",
    "    dfs(root, 0, level, count)\n",
    "                \n",
    "    return count[0]"
   ]
  },
  {
   "cell_type": "markdown",
   "metadata": {},
   "source": [
    "### Bài 2. Thoát Khỏi Mê Cung"
   ]
  },
  {
   "cell_type": "code",
   "execution_count": 8,
   "metadata": {},
   "outputs": [],
   "source": [
    "import matplotlib.pyplot as plt\n",
    "\n",
    "plt.style.use('default')\n",
    "\n",
    "def plot_maze_with_path(vertical, horizontal, path=None, before=None, fig_height=8):\n",
    "\n",
    "    # init height & width\n",
    "    height = len(vertical)\n",
    "    width = len(vertical[0])\n",
    "    \n",
    "    # init figure\n",
    "    fig = plt.figure(figsize=(fig_height*2, fig_height))\n",
    "    fig.patch.set_visible(False)\n",
    "\n",
    "    # draw maze borders\n",
    "    for row in range(height):\n",
    "        for col in range(width):\n",
    "            if vertical[row][col]:\n",
    "                plt.plot((col, col), (row, row+1), color='white')\n",
    "            if horizontal[row][col]:\n",
    "                plt.plot((col, col+1), (row, row), color='white')\n",
    "\n",
    "    # draw surrounding borders on the right & bottom\n",
    "    plt.plot((width, width), (0, height-1), color='white')\n",
    "    plt.plot((0, width), (height, height), color='white')\n",
    "\n",
    "    # styling the plot\n",
    "    ax = plt.gca()\n",
    "    ax.set_facecolor((0, 0, 0))\n",
    "    ax.set_ylim(ax.get_ylim()[::-1])\n",
    "    plt.xticks([])\n",
    "    plt.yticks([])\n",
    "    \n",
    "    # add arrows\n",
    "    plt.arrow(0, 0.5, 0.8, 0, width=0.07, length_includes_head=True, color='white')\n",
    "    plt.arrow(width-0.8, height-0.5, 0.8, 0, width=0.07, length_includes_head=True, color='white')\n",
    "    \n",
    "    # plot path\n",
    "    if path != None:\n",
    "        last_step = (0, -0.5)\n",
    "        for step in path + [(height-1, width-0.5)]:\n",
    "            plt.plot((last_step[1]+0.5, step[1]+0.5), (last_step[0]+0.5, step[0]+0.5), color='cyan', linestyle='-.')\n",
    "            last_step = step\n",
    "            \n",
    "    # plot every paths\n",
    "    if before != None:\n",
    "        for row in range(height):\n",
    "            for col in range(width):\n",
    "                if before[row][col] != None:\n",
    "                    last_step = before[row][col]\n",
    "                    plt.plot((last_step[1]+0.5, col+0.5), (last_step[0]+0.5, row+0.5), color='yellow', linestyle='-.')\n",
    "    \n",
    "    plt.show()"
   ]
  },
  {
   "cell_type": "code",
   "execution_count": 9,
   "metadata": {},
   "outputs": [],
   "source": [
    "# SOLUTION\n",
    "\n",
    "from IPython import display\n",
    "import time\n",
    "\n",
    "def bfs(vertical, horizontal):\n",
    "    \n",
    "    # init height & width\n",
    "    height = len(vertical)\n",
    "    width = len(vertical[0])\n",
    "    \n",
    "    # init visited array, vertex queue and `before` array to track the path\n",
    "    queue = deque()\n",
    "    visited = [[False]*width for _ in range(height)]\n",
    "    before = [[None]*width for _ in range(height)]\n",
    "\n",
    "    # add starting vertex\n",
    "    queue.append((0, 0))\n",
    "    visited[0][0] = True\n",
    "\n",
    "    # while there remains vertices to visit...\n",
    "    while len(queue) > 0:\n",
    "\n",
    "        # visit next vertex in queue\n",
    "        row, col = queue.popleft()\n",
    "\n",
    "        # put adjacent vertices to queue and mark them as visited\n",
    "        for i, j in [(row-1, col), (row, col+1), (row+1, col), (row, col-1)]:\n",
    "            if i > -1 and i < height and j > -1 and j < width and not visited[i][j]:\n",
    "                \n",
    "                # check for wall between the current cell and the next cell\n",
    "                has_wall = (i == row and vertical[i][max(j, col)]) \\\n",
    "                        or (j == col and horizontal[max(i, row)][j])\n",
    "                if not has_wall:\n",
    "                    queue.append((i, j))\n",
    "                    visited[i][j] = True\n",
    "                    before[i][j] = (row, col)\n",
    "                    \n",
    "                    # show the process of solving the maze - USED FOR DEMONSTRATION\n",
    "                    time.sleep(0.2)\n",
    "                    display.clear_output(wait=True)\n",
    "                    plot_maze_with_path(vertical, horizontal, before=before)\n",
    "                    \n",
    "                    # exit found\n",
    "                    if i == height-1 and j == width-1:\n",
    "                        return before\n",
    "                    \n",
    "    return None\n",
    "\n",
    "\n",
    "def find_path(vertical, horizontal):\n",
    "    \n",
    "    # traverse maze with BFS to retrieve the `before` dict to track the path\n",
    "    before = bfs(vertical, horizontal)\n",
    "    \n",
    "    # init height & width\n",
    "    height = len(vertical)\n",
    "    width = len(vertical[0])\n",
    "    \n",
    "    # get the path tracking back `before`\n",
    "    path = []\n",
    "    vertex = (height-1, width-1)\n",
    "    while vertex[0] != 0 or vertex[1] != 0:\n",
    "        path.append(vertex)\n",
    "        vertex = before[vertex[0]][vertex[1]]\n",
    "    path.append((0, 0))\n",
    "    \n",
    "    # reverse the path\n",
    "    path.reverse()\n",
    "    return path"
   ]
  },
  {
   "cell_type": "code",
   "execution_count": 10,
   "metadata": {},
   "outputs": [
    {
     "data": {
      "image/png": "[encoded data removed]",
      "text/plain": [
       "<Figure size 1600x800 with 1 Axes>"
      ]
     },
     "metadata": {},
     "output_type": "display_data"
    }
   ],
   "source": [
    "vertical = [\n",
    "    [False, True, False, False, True, False, False, False],\n",
    "    [True, True, False, False, False, True, False, True],\n",
    "    [True, False, False, False, False, True, True, False],\n",
    "    [True, False, False, False, False, False, True, False]]\n",
    "horizontal = [\n",
    "    [True, True, True, True, True, True, True, True],\n",
    "    [False, False, True, True, False, True, True, False],\n",
    "    [False, True, True, True, True, False, False, False],\n",
    "    [True, True, True, True, False, False, True, False]]\n",
    "\n",
    "path = find_path(vertical, horizontal)"
   ]
  },
  {
   "cell_type": "code",
   "execution_count": 11,
   "metadata": {},
   "outputs": [
    {
     "data": {
      "image/png": "[encoded data removed]",
      "text/plain": [
       "<Figure size 800x400 with 1 Axes>"
      ]
     },
     "metadata": {},
     "output_type": "display_data"
    }
   ],
   "source": [
    "plot_maze_with_path(vertical, horizontal, path=path, fig_height=4)"
   ]
  }
 ],
 "metadata": {
  "kernelspec": {
   "display_name": "Python 3.9.12 ('base')",
   "language": "python",
   "name": "python3"
  },
  "language_info": {
   "codemirror_mode": {
    "name": "ipython",
    "version": 3
   },
   "file_extension": ".py",
   "mimetype": "text/x-python",
   "name": "python",
   "nbconvert_exporter": "python",
   "pygments_lexer": "ipython3",
   "version": "3.9.12"
  },
  "vscode": {
   "interpreter": {
    "hash": "245cc435fe8701059561108fec3fd7c748240250fa2e2b5e714b4f6827c3f344"
   }
  }
 },
 "nbformat": 4,
 "nbformat_minor": 4
}
