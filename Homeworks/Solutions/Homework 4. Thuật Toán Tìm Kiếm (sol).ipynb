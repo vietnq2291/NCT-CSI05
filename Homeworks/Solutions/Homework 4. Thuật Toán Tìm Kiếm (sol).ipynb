{
 "cells": [
  {
   "cell_type": "markdown",
   "metadata": {},
   "source": [
    "## <center>Computer Science Intensive Course - MindX</center>\n",
    "![](./assets/logo.png)\n",
    "# <center>HOMEWORK 4. THUẬT TOÁN TÌM KIẾM</center>"
   ]
  },
  {
   "cell_type": "markdown",
   "metadata": {},
   "source": [
    "## Bài Tập: Tìm Hàng\n",
    "\n",
    "Một siêu thị lưu danh sách các mặt hàng dưới dạng *list*, mỗi mặt hàng là một *dictionary* như sau:  \n",
    "&nbsp;&nbsp;&nbsp;{\"id\": 354, \"name\": \"Vinamilk Icecream\", \"price\": 35000}  \n",
    "\n",
    "Cho danh sách mặt hàng đã được sắp xếp theo giá từ lớn đến nhỏ, hãy tìm tất cả mặt hàng có giá tiền *p* được nhập.  \n",
    "\n",
    "**Input**: Danh sách các mặt hàng và giá tiền *p* cần tìm.  \n",
    "**Output**: Danh sách các mặt hàng có giá tiền *p*, hoặc \"Not found\".  \n",
    "**Ví dụ**:  \n",
    "- Input: *sample_input_list*, p = 20000\n",
    "- Output: *sample_output_list*"
   ]
  },
  {
   "cell_type": "code",
   "execution_count": 13,
   "metadata": {},
   "outputs": [],
   "source": [
    "sample_input_list = [\n",
    "    {\"id\": 613, \"name\": \"Television\", \"price\": 12000000},\n",
    "    {\"id\": 982, \"name\": \"Headphone\", \"price\": 1000000},\n",
    "    {\"id\":  24, \"name\": \"Backpack\", \"price\": 250000},\n",
    "    {\"id\": 389, \"name\": \"Vinamilk Icecream\", \"price\": 35000},\n",
    "    {\"id\": 432, \"name\": \"Big Cola\", \"price\": 20000},\n",
    "    {\"id\": 678, \"name\": \"Chocopie\", \"price\": 20000},\n",
    "    {\"id\": 354, \"name\": \"Mint\", \"price\": 15000}\n",
    "]\n",
    "\n",
    "sample_output_list = [\n",
    "    {\"id\": 432, \"name\": \"Big Cola\", \"price\": 20000},\n",
    "    {\"id\": 678, \"name\": \"Chocopie\", \"price\": 20000}\n",
    "]"
   ]
  },
  {
   "cell_type": "code",
   "execution_count": 14,
   "metadata": {},
   "outputs": [],
   "source": [
    "# previously implemented\n",
    "# do modifications for descending-sorted array\n",
    "def binary_search_comp(data_list, value, compare_func):\n",
    "    \n",
    "    left = 0\n",
    "    right = len(data_list)-1\n",
    " \n",
    "    while left <= right:\n",
    "        \n",
    "        mid = (left + right) // 2\n",
    "        mid_item = data_list[mid]\n",
    "        \n",
    "        compare_result = compare_func(mid_item, value)  # do comparison\n",
    "        # descending-sorted array\n",
    "        if compare_result == 1:     # larger\n",
    "            left = mid + 1\n",
    "        elif compare_result == -1:  # smaller\n",
    "            right = mid - 1\n",
    "        else:                       # equal\n",
    "            return mid\n",
    "\n",
    "    return -1"
   ]
  },
  {
   "cell_type": "code",
   "execution_count": null,
   "metadata": {},
   "outputs": [],
   "source": [
    "# compare a shopping item and a number\n",
    "def compare(item, num):\n",
    "    if item['price'] < num:\n",
    "        return -1  # smaller\n",
    "    elif item['price'] > num:\n",
    "        return 1   # larger\n",
    "    return 0       # equal\n",
    "\n",
    "\n",
    "def find_items(item_list, price):\n",
    "    \n",
    "    # binary search for one index\n",
    "    index = binary_search_comp(item_list, price, compare)\n",
    "    \n",
    "    if index == -1:\n",
    "        print('Item with price {} not found'.format(price))\n",
    "        return\n",
    "    else:  # if found, search left and right for same-price items\n",
    "        length = len(item_list)\n",
    "        left = index\n",
    "        right = index\n",
    "        while left > 0 and item_list[left-1]['price'] == price:\n",
    "            left -= 1\n",
    "        while right < length-1 and item_list[right+1]['price'] == price:\n",
    "            right += 1\n",
    "        print('Found item(s) with price {}:'.format(price))\n",
    "        print(item_list[left:right+1])\n",
    "        \n",
    "        \n",
    "# call the function\n",
    "price = 20000\n",
    "find_items(sample_input_list, price)"
   ]
  },
  {
   "cell_type": "code",
   "execution_count": null,
   "metadata": {},
   "outputs": [],
   "source": []
  }
 ],
 "metadata": {
  "kernelspec": {
   "display_name": "Python 3",
   "language": "python",
   "name": "python3"
  },
  "language_info": {
   "codemirror_mode": {
    "name": "ipython",
    "version": 3
   },
   "file_extension": ".py",
   "mimetype": "text/x-python",
   "name": "python",
   "nbconvert_exporter": "python",
   "pygments_lexer": "ipython3",
   "version": "3.8.3"
  }
 },
 "nbformat": 4,
 "nbformat_minor": 4
}
