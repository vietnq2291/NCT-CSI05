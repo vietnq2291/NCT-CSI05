{
 "cells": [
  {
   "cell_type": "markdown",
   "metadata": {},
   "source": [
    "## <center>Computer Science Intensive Course - MindX</center>\n",
    "![](./assets/logo.png)\n",
    "# <center>HOMEWORK 7. THUẬT TOÁN SẮP XẾP (3)</center>"
   ]
  },
  {
   "cell_type": "markdown",
   "metadata": {},
   "source": [
    "## Bài Tập: Sắp Xếp Hoa Theo Giá\n",
    "\n",
    "**Bài toán**: Cho danh sách các loại hoa được bày bán và giá với định dạng như bên dưới, hãy sắp xếp danh sách theo thứ tự giá tăng dần.  \n",
    "Biết danh sách có *0 < n < 10<sup>6</sup>* loại hoa, mỗi loại có giá tiền từ 10.000đ đến 100.000đ. Mỗi giá tiền đều chẵn theo nghìn đồng (không có giá tiền nào lẻ 500đ hoặc 200đ).  "
   ]
  },
  {
   "cell_type": "code",
   "execution_count": 1,
   "metadata": {},
   "outputs": [],
   "source": [
    "flower_prices = [\n",
    "    {'name': 'Red Rose', 'price': 10000},\n",
    "    {'name': 'Lily', 'price': 12000},\n",
    "    {'name': 'Orchid', 'price': 100000},\n",
    "    {'name': 'Blue Rose', 'price': 20000},\n",
    "    {'name': 'Daisy', 'price': 12000},\n",
    "    {'name': 'Tulip', 'price': 20000},\n",
    "    {'name': 'Chrysanthemum', 'price': 10000},\n",
    "    {'name': 'Sunflower', 'price': 20000}\n",
    "]"
   ]
  },
  {
   "cell_type": "code",
   "execution_count": 6,
   "metadata": {},
   "outputs": [],
   "source": [
    "def counting_sort_flower(arr):\n",
    "    \n",
    "    # trivial cases\n",
    "    if len(arr) <= 1:\n",
    "        return\n",
    "    \n",
    "    # get the range of counting indices\n",
    "    # divide by 1000 and shift left 10\n",
    "    min_val = 10\n",
    "    max_val = 100\n",
    "    val_range = max_val - min_val + 1\n",
    " \n",
    "    # count occurences of each value\n",
    "    count = [0] * val_range\n",
    "    for i, flower in enumerate(arr):\n",
    "        count[flower['price']//1000-min_val] += 1\n",
    "        \n",
    "    # build `next_indices` by overwritting `count`\n",
    "    next_indices = count\n",
    "    total_count = 0\n",
    "    for i in range(val_range):\n",
    "        tmp = next_indices[i]\n",
    "        next_indices[i] = total_count\n",
    "        total_count += tmp\n",
    " \n",
    "    # traverse `arr` to place the values into `sorted_arr`\n",
    "    sorted_arr = [None] * len(arr)\n",
    "    for flower in arr:\n",
    "        count_index = flower['price']//1000-min_val\n",
    "        sorted_arr[next_indices[count_index]] = flower\n",
    "        next_indices[count_index] += 1\n",
    "        \n",
    "    return sorted_arr"
   ]
  },
  {
   "cell_type": "code",
   "execution_count": 7,
   "metadata": {},
   "outputs": [
    {
     "name": "stdout",
     "output_type": "stream",
     "text": [
      "Before sorting:\n"
     ]
    },
    {
     "data": {
      "text/plain": [
       "[{'name': 'Red Rose', 'price': 10000},\n",
       " {'name': 'Lily', 'price': 12000},\n",
       " {'name': 'Orchid', 'price': 100000},\n",
       " {'name': 'Blue Rose', 'price': 20000},\n",
       " {'name': 'Daisy', 'price': 12000},\n",
       " {'name': 'Tulip', 'price': 20000},\n",
       " {'name': 'Chrysanthemum', 'price': 10000},\n",
       " {'name': 'Sunflower', 'price': 20000}]"
      ]
     },
     "metadata": {},
     "output_type": "display_data"
    },
    {
     "name": "stdout",
     "output_type": "stream",
     "text": [
      "After sorting:\n"
     ]
    },
    {
     "data": {
      "text/plain": [
       "[{'name': 'Red Rose', 'price': 10000},\n",
       " {'name': 'Chrysanthemum', 'price': 10000},\n",
       " {'name': 'Lily', 'price': 12000},\n",
       " {'name': 'Daisy', 'price': 12000},\n",
       " {'name': 'Blue Rose', 'price': 20000},\n",
       " {'name': 'Tulip', 'price': 20000},\n",
       " {'name': 'Sunflower', 'price': 20000},\n",
       " {'name': 'Orchid', 'price': 100000}]"
      ]
     },
     "metadata": {},
     "output_type": "display_data"
    }
   ],
   "source": [
    "flower_prices_2 = flower_prices[:]\n",
    "\n",
    "flower_prices_2 = counting_sort_flower(flower_prices_2)\n",
    "\n",
    "print(\"Before sorting:\")\n",
    "display(flower_prices)\n",
    "print(\"After sorting:\")\n",
    "display(flower_prices_2)"
   ]
  },
  {
   "cell_type": "code",
   "execution_count": null,
   "metadata": {},
   "outputs": [],
   "source": []
  }
 ],
 "metadata": {
  "kernelspec": {
   "display_name": "Python 3",
   "language": "python",
   "name": "python3"
  },
  "language_info": {
   "codemirror_mode": {
    "name": "ipython",
    "version": 3
   },
   "file_extension": ".py",
   "mimetype": "text/x-python",
   "name": "python",
   "nbconvert_exporter": "python",
   "pygments_lexer": "ipython3",
   "version": "3.8.3"
  }
 },
 "nbformat": 4,
 "nbformat_minor": 4
}
