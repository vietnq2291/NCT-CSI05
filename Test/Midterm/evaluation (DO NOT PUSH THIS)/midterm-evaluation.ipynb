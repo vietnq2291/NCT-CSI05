{
 "cells": [
  {
   "cell_type": "markdown",
   "metadata": {},
   "source": [
    "## <center>Computer Science Intensive Course - MindX</center>\n",
    "![](./assets/logo.png)\n",
    "# <center>KIỂM TRA GIỮA KHÓA - ĐÁNH GIÁ ĐIỂM</center>"
   ]
  },
  {
   "cell_type": "code",
   "execution_count": null,
   "metadata": {},
   "outputs": [],
   "source": [
    "import pandas as pd\n",
    "from os import listdir\n",
    "from os.path import isfile, join"
   ]
  },
  {
   "cell_type": "markdown",
   "metadata": {},
   "source": [
    "## Load bài giải mẫu và test case\n",
    "\n",
    "Chạy phần **Chấm điểm** ngay sau khi chạy phần này để kiểm tra test case hoạt động đúng. Sau đó mới chạy phần **Load bài nộp** để chấm điểm học viên."
   ]
  },
  {
   "cell_type": "code",
   "execution_count": null,
   "metadata": {},
   "outputs": [],
   "source": [
    "%run midterm-solutions.ipynb import find_mode, buy_icecream, has_sequence_with_sum, count_swap, find_word, find_closest_distance\n",
    "%run midterm-testcases.ipynb\n",
    "\n",
    "current_submission = 'midterm-solutions.ipynb'"
   ]
  },
  {
   "cell_type": "markdown",
   "metadata": {},
   "source": [
    "## Load bài nộp\n",
    "\n",
    "- Load các bài nộp trong thư mục <code>path</code>.\n",
    "- Chấm điểm từng bài bằng cách thay đổi index khi gán giá trị cho biến <code>current_submission</code>."
   ]
  },
  {
   "cell_type": "code",
   "execution_count": null,
   "metadata": {},
   "outputs": [],
   "source": [
    "path = '../submissions'  # change this path\n",
    "submissions = ['../submissions/{}'.format(f) for f in listdir(path) if isfile(join(path, f))]\n",
    "submissions"
   ]
  },
  {
   "cell_type": "code",
   "execution_count": null,
   "metadata": {},
   "outputs": [],
   "source": [
    "current_submission = submissions[1]  # change the index\n",
    "%run $current_submission import find_mode, buy_icecream, has_sequence_with_sum, count_swap, find_word, find_closest_distance"
   ]
  },
  {
   "cell_type": "markdown",
   "metadata": {},
   "source": [
    "## Chấm điểm"
   ]
  },
  {
   "cell_type": "code",
   "execution_count": null,
   "metadata": {},
   "outputs": [],
   "source": [
    "def evaluate():\n",
    "    \n",
    "    print('Testing on {}'.format(current_submission))\n",
    "    print('===============================================')\n",
    "\n",
    "    func_list = [find_mode, buy_icecream, has_sequence_with_sum, count_swap, find_word, find_closest_distance]\n",
    "    test_func_list = [test1, test2, test3, test4, test5, test6]\n",
    "    result_df = pd.DataFrame()\n",
    "\n",
    "    for i, func in enumerate(func_list):\n",
    "        print('Testing on problem {}/6...'.format(i+1))\n",
    "        result_df['Problem {}'.format(i+1)] = test_func_list[i](func)\n",
    "\n",
    "    index_list = ['Test {}'.format(i+1) for i in range(10)]\n",
    "    index_list += ['Total']\n",
    "    result_df.set_index(pd.Index(index_list), inplace=True)\n",
    "\n",
    "    tests_passed = result_df.loc['Total', :].sum()\n",
    "    print('===============================================')\n",
    "    print('Total Test Cases Passed: {}/60'.format(tests_passed))\n",
    "    print('Total Points: {}/120'.format(tests_passed*2))\n",
    "\n",
    "    return result_df\n",
    "\n",
    "\n",
    "evaluate()"
   ]
  },
  {
   "cell_type": "code",
   "execution_count": null,
   "metadata": {},
   "outputs": [],
   "source": []
  }
 ],
 "metadata": {
  "kernelspec": {
   "display_name": "Python 3.9.13 ('base')",
   "language": "python",
   "name": "python3"
  },
  "language_info": {
   "codemirror_mode": {
    "name": "ipython",
    "version": 3
   },
   "file_extension": ".py",
   "mimetype": "text/x-python",
   "name": "python",
   "nbconvert_exporter": "python",
   "pygments_lexer": "ipython3",
   "version": "3.9.13"
  },
  "vscode": {
   "interpreter": {
    "hash": "245cc435fe8701059561108fec3fd7c748240250fa2e2b5e714b4f6827c3f344"
   }
  }
 },
 "nbformat": 4,
 "nbformat_minor": 4
}
