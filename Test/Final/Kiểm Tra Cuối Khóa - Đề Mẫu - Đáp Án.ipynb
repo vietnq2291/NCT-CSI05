{
 "cells": [
  {
   "cell_type": "markdown",
   "metadata": {},
   "source": [
    "## <center>Computer Science Intensive Course - MindX</center>\n",
    "![](./assets-final-test/logo.png)\n",
    "# <center>KIỂM TRA CUỐI KHÓA - ĐỀ MẪU - ĐÁP ÁN</center>"
   ]
  },
  {
   "cell_type": "markdown",
   "metadata": {},
   "source": [
    "# Danh Sách Bài\n",
    "Link | Điểm\n",
    "1. https://www.hackerrank.com/challenges/solve-me-first/problem | 10\n",
    "2. https://www.hackerrank.com/challenges/sock-merchant/problem | 30"
   ]
  },
  {
   "cell_type": "markdown",
   "metadata": {},
   "source": [
    "## Bài 1. Solve Me First\n",
    "\n",
    "**Yêu cầu**: Cho hai số nguyên *a* và *b*, hãy tính tổng của hai số.  \n",
    "\n",
    "**Input**: Hai số nguyên *1 ≤ a, b ≤ 1000*.  \n",
    "**Output**: Trả về một số nguyên duy nhất là tổng của *a* và *b*.  \n",
    "**Ví dụ**:  \n",
    "- Input: <code>7</code>, <code>3</code>\n",
    "- Output: <code>10</code>"
   ]
  },
  {
   "cell_type": "code",
   "execution_count": 1,
   "metadata": {},
   "outputs": [],
   "source": [
    "def solveMeFirst(a, b):\n",
    "    return a + b"
   ]
  },
  {
   "cell_type": "markdown",
   "metadata": {},
   "source": [
    "## Bài 2. Xếp Vớ\n",
    "\n",
    "**Yêu cầu**: Có một số vớ cần được xếp theo đôi. Cho một mảng các số nguyên thể hiện màu của từng chiếc vớ, hãy đếm số đôi vớ có hai chiếc cùng màu.  \n",
    "\n",
    "**Ví dụ**: Cho <code>n = 7</code> chiếc vớ với các màu <code>ar = [1, 2, 1, 2, 1, 3, 2]</code>.  \n",
    "Ta tìm được một đôi có màu 1 và một đôi có màu 2. Các chiếc vớ còn lại đều bị lẻ. Tổng cộng ta tìm được 2 đôi vớ.  \n",
    "\n",
    "**Input**: Một số nguyên *1 ≤ n ≤ 100* là số chiếc vớ và một list chứa *n* phần tử là màu của từng chiếc vớ. Mỗi phần tử là một số nguyên có giá trị trong đoạn _[1,&nbsp;100]_.  \n",
    "**Output**: Trả về một số nguyên là số đôi vớ đếm được.  \n",
    "**Ví dụ**:\n",
    "- Input: <code>7</code>, <code>[1, 2, 1, 2, 1, 3, 2]</code>\n",
    "- Output: <code>2</code>"
   ]
  },
  {
   "cell_type": "markdown",
   "metadata": {},
   "source": [
    "**Thuật toán**: Tạo một set để chứa các chiếc vớ bị lẻ. Mỗi khi kiểm tra một chiếc vớ mới, ta kiểm tra có chiếc cùng màu trong set hay không:\n",
    "- Nếu không: đưa chiếc vớ đang xét vào set\n",
    "- Nếu có: ta tìm thấy một đôi vớ => tăng biến đếm và xóa chiếc vớ cùng màu khỏi set"
   ]
  },
  {
   "cell_type": "code",
   "execution_count": 1,
   "metadata": {},
   "outputs": [],
   "source": [
    "def sockMerchant(n, ar):\n",
    "    \n",
    "    # init a set for single socks\n",
    "    single_socks = set()\n",
    "    \n",
    "    # init count and loop through the sock colors\n",
    "    count = 0\n",
    "    for el in ar:\n",
    "        if el not in single_socks:   # if no matches color in the set\n",
    "            single_socks.add(el)     # => add the sock to set\n",
    "        else:                        # otherwise, found matches color\n",
    "            count += 1               # => increase count and remove the sock from set\n",
    "            single_socks.remove(el)\n",
    "    \n",
    "    return count"
   ]
  },
  {
   "cell_type": "markdown",
   "metadata": {},
   "source": [
    "# END"
   ]
  }
 ],
 "metadata": {
  "kernelspec": {
   "display_name": "Python 3.10.4 64-bit",
   "language": "python",
   "name": "python3"
  },
  "language_info": {
   "codemirror_mode": {
    "name": "ipython",
    "version": 3
   },
   "file_extension": ".py",
   "mimetype": "text/x-python",
   "name": "python",
   "nbconvert_exporter": "python",
   "pygments_lexer": "ipython3",
   "version": "3.10.4"
  },
  "vscode": {
   "interpreter": {
    "hash": "916dbcbb3f70747c44a77c7bcd40155683ae19c65e1c03b4aa3499c5328201f1"
   }
  }
 },
 "nbformat": 4,
 "nbformat_minor": 4
}
