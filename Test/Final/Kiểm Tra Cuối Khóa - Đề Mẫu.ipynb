{
 "cells": [
  {
   "cell_type": "markdown",
   "metadata": {},
   "source": [
    "## <center>Computer Science Intensive Course - MindX</center>\n",
    "![](./assets-final-test/logo.png)\n",
    "# <center>KIỂM TRA CUỐI KHÓA - ĐỀ MẪU</center>"
   ]
  },
  {
   "cell_type": "markdown",
   "metadata": {},
   "source": [
    "## Bài 1. Solve Me First\n",
    "\n",
    "**Yêu cầu**: Cho hai số nguyên *a* và *b*, hãy tính tổng của hai số.  \n",
    "\n",
    "**Input**: Hai số nguyên *1 ≤ a, b ≤ 1000*.  \n",
    "**Output**: Trả về một số nguyên duy nhất là tổng của *a* và *b*.  \n",
    "**Ví dụ**:  \n",
    "- Input: <code>7</code>, <code>3</code>\n",
    "- Output: <code>10</code>"
   ]
  },
  {
   "cell_type": "code",
   "execution_count": 1,
   "metadata": {},
   "outputs": [],
   "source": [
    "def solveMeFirst(a, b):\n",
    "    \n",
    "    # YOUR CODE HERE\n",
    "    \n",
    "    return result  # int"
   ]
  },
  {
   "cell_type": "markdown",
   "metadata": {},
   "source": [
    "## Bài 2. Xếp Vớ\n",
    "\n",
    "**Yêu cầu**: Có một số vớ cần được xếp theo đôi. Cho một mảng các số nguyên thể hiện màu của từng chiếc vớ, hãy đếm số đôi vớ có hai chiếc cùng màu.  \n",
    "\n",
    "**Ví dụ**: Cho <code>n = 7</code> chiếc vớ với các màu <code>ar = [1, 2, 1, 2, 1, 3, 2]</code>.  \n",
    "Ta tìm được một đôi có màu 1 và một đôi có màu 2. Các chiếc vớ còn lại đều bị lẻ. Tổng cộng ta tìm được 2 đôi vớ.  \n",
    "\n",
    "**Input**: Một số nguyên *1 ≤ n ≤ 100* là số chiếc vớ và một list chứa *n* phần tử là màu của từng chiếc vớ. Mỗi phần tử là một số nguyên có giá trị trong đoạn _[1,&nbsp;100]_.  \n",
    "**Output**: Trả về một số nguyên là số đôi vớ đếm được.  \n",
    "**Ví dụ**:\n",
    "- Input: <code>7</code>, <code>[1, 2, 1, 2, 1, 3, 2]</code>\n",
    "- Output: <code>2</code>"
   ]
  },
  {
   "cell_type": "code",
   "execution_count": 1,
   "metadata": {},
   "outputs": [],
   "source": [
    "def sockMerchant(n, ar):\n",
    "    \n",
    "    # YOUR CODE HERE\n",
    "    \n",
    "    return count  # int"
   ]
  },
  {
   "cell_type": "markdown",
   "metadata": {},
   "source": [
    "# END"
   ]
  }
 ],
 "metadata": {
  "kernelspec": {
   "display_name": "Python 3.10.4 64-bit",
   "language": "python",
   "name": "python3"
  },
  "language_info": {
   "codemirror_mode": {
    "name": "ipython",
    "version": 3
   },
   "file_extension": ".py",
   "mimetype": "text/x-python",
   "name": "python",
   "nbconvert_exporter": "python",
   "pygments_lexer": "ipython3",
   "version": "3.10.4"
  },
  "vscode": {
   "interpreter": {
    "hash": "916dbcbb3f70747c44a77c7bcd40155683ae19c65e1c03b4aa3499c5328201f1"
   }
  }
 },
 "nbformat": 4,
 "nbformat_minor": 4
}
